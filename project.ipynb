{
 "cells": [
  {
   "cell_type": "markdown",
   "id": "23acbec8",
   "metadata": {},
   "source": [
    "# Começando a pensar no projeto"
   ]
  },
  {
   "cell_type": "markdown",
   "id": "8432dcba",
   "metadata": {},
   "source": [
    "BRAIN STORM\n",
    "\n",
    "- recusar mais crédito\n",
    "\n",
    "- Elassificar estado dos produtos, identificar se é melhor FP ou FN, \n",
    "\n",
    "- Objetivo é discriminar quais são os produtos sem falhas e com falhas (Classificação - supervisionado)"
   ]
  },
  {
   "cell_type": "markdown",
   "id": "74c57223",
   "metadata": {},
   "source": [
    "\n",
    "## Contextualização\n",
    "\n",
    "A PyCoders Ltda., cada vez mais especializada no mundo da Inteligência Artificial e Ciência de Dados, foi procurada por uma fintech para desenvolver um projeto de teste de produtos. Nesse projeto, espera-se a criação de valor que **discrimine ao máximo** os **produtos com falhas** dos **produto sem falhas**. \n",
    "\n",
    "Para cada product_code, você recebe vários atributos de produto (fixados para o código), bem como vários valores de medição para cada produto individual, representando vários métodos de teste de laboratório. Cada produto é usado em um experimento simulado de ambiente do mundo real e absorve uma certa quantidade de fluido (carregamento) para ver se falha ou não.\n",
    "\n",
    "Sua tarefa é usar os dados para prever falhas de novos códigos de produtos individuais com seus resultados de testes de laboratório individuais.\n",
    "\n",
    "Para isso, foi disponibilizada uma base de dados com milhares de casos de **testes do passado** com diversas características dos produtos. \n",
    "\n",
    "Entrega: um modelo com a **melhor performance** possível.\n",
    "\n",
    "Métrica de performance (inicialmente proposta): **ROC-AUC** (mas isso é flexível, conforme detalhado mais abaixo!)"
   ]
  },
  {
   "cell_type": "markdown",
   "id": "7d2f46d9",
   "metadata": {},
   "source": [
    "## Base de Dados\n",
    "\n",
    "Serão utilizadas bases de dados com **informações de diversos produtos**. \n",
    "\n",
    "O conjunto de dados está dividido em **treino e teste**, todos no formato csv. \n",
    "\n",
    "Toda a modelagem, validação e avaliação deve ser feita em cima do conjunto de **treino**, que contém o target (arquivo: `train_data.csv`)"
   ]
  },
  {
   "cell_type": "markdown",
   "id": "633bdebf",
   "metadata": {},
   "source": [
    "# Carregando as bibliotecas"
   ]
  },
  {
   "cell_type": "code",
   "execution_count": 1,
   "id": "1ea5048a",
   "metadata": {
    "ExecuteTime": {
     "end_time": "2022-07-19T23:43:06.122155Z",
     "start_time": "2022-07-19T23:43:01.924164Z"
    }
   },
   "outputs": [],
   "source": [
    "import pandas as pd\n",
    "import numpy as np\n",
    "\n",
    "import matplotlib.pyplot as plt\n",
    "import seaborn as sns"
   ]
  },
  {
   "cell_type": "markdown",
   "id": "94fd68e3",
   "metadata": {},
   "source": [
    "# Avaliar o modelo"
   ]
  },
  {
   "cell_type": "code",
   "execution_count": 2,
   "id": "b652568e",
   "metadata": {
    "ExecuteTime": {
     "end_time": "2022-07-20T01:12:46.791918Z",
     "start_time": "2022-07-20T01:12:46.768284Z"
    }
   },
   "outputs": [],
   "source": [
    "from sklearn.metrics import (\n",
    "    ConfusionMatrixDisplay,\n",
    "    RocCurveDisplay,\n",
    "    classification_report,\n",
    "    roc_auc_score,\n",
    ")\n",
    "\n",
    "\n",
    "def metricas_classificacao(estimator, X_train, X_test, y_train, y_test):\n",
    "\n",
    "    print(\"\\nMétricas de avaliação de treino:\")\n",
    "\n",
    "    y_pred_train = estimator.predict(X_train)\n",
    "    y_probs_train = estimator.predict_proba(X_train)[:, 1]\n",
    "\n",
    "    ConfusionMatrixDisplay.from_predictions(y_train, y_pred_train)\n",
    "    plt.show()\n",
    "\n",
    "    print(classification_report(y_train, y_pred_train))\n",
    "\n",
    "    disp = RocCurveDisplay.from_predictions(y_train, y_probs_train)\n",
    "    disp.ax_.set_title(f\"AUC: {roc_auc_score(y_train, y_probs_train):.3f}\", fontsize=16)\n",
    "    x = np.linspace(0, 1, 100)\n",
    "    plt.plot(x, x, ls=\":\", color=\"black\")\n",
    "    plt.show()\n",
    "\n",
    "    # ============================================\n",
    "\n",
    "    print(\"\\nMétricas de avaliação de teste:\")\n",
    "\n",
    "    y_pred_test = estimator.predict(X_test)\n",
    "    y_probs_test = estimator.predict_proba(X_test)[:, 1]\n",
    "\n",
    "    ConfusionMatrixDisplay.from_predictions(y_test, y_pred_test)\n",
    "    plt.show()\n",
    "\n",
    "    print(classification_report(y_test, y_pred_test))\n",
    "\n",
    "    disp = RocCurveDisplay.from_predictions(y_test, y_probs_test)\n",
    "    disp.ax_.set_title(f\"AUC: {roc_auc_score(y_test, y_probs_test):.3f}\", fontsize=16)\n",
    "    x = np.linspace(0, 1, 100)\n",
    "    plt.plot(x, x, ls=\":\", color=\"black\")\n",
    "    plt.show()\n"
   ]
  },
  {
   "cell_type": "markdown",
   "id": "a6793b12",
   "metadata": {},
   "source": [
    "## INICIANDO O PROJETO"
   ]
  },
  {
   "cell_type": "code",
   "execution_count": 3,
   "id": "ae8301aa",
   "metadata": {
    "ExecuteTime": {
     "end_time": "2022-07-19T23:59:05.345615Z",
     "start_time": "2022-07-19T23:59:05.330657Z"
    }
   },
   "outputs": [
    {
     "data": {
      "text/plain": [
       "(21256, 27)"
      ]
     },
     "execution_count": 3,
     "metadata": {},
     "output_type": "execute_result"
    }
   ],
   "source": [
    "descricao = pd.read_csv('train_data.csv')\n",
    "descricao.shape"
   ]
  },
  {
   "cell_type": "code",
   "execution_count": 4,
   "id": "cffef3a9",
   "metadata": {
    "ExecuteTime": {
     "end_time": "2022-07-19T23:59:35.139008Z",
     "start_time": "2022-07-19T23:59:35.107071Z"
    }
   },
   "outputs": [
    {
     "name": "stdout",
     "output_type": "stream",
     "text": [
      "<class 'pandas.core.frame.DataFrame'>\n",
      "RangeIndex: 21256 entries, 0 to 21255\n",
      "Data columns (total 27 columns):\n",
      " #   Column          Non-Null Count  Dtype  \n",
      "---  ------          --------------  -----  \n",
      " 0   Unnamed: 0      21256 non-null  int64  \n",
      " 1   id              21256 non-null  int64  \n",
      " 2   product_code    21256 non-null  object \n",
      " 3   loading         21063 non-null  float64\n",
      " 4   attribute_0     21256 non-null  object \n",
      " 5   attribute_1     21256 non-null  object \n",
      " 6   attribute_2     21256 non-null  int64  \n",
      " 7   attribute_3     21256 non-null  int64  \n",
      " 8   measurement_0   21256 non-null  int64  \n",
      " 9   measurement_1   21256 non-null  int64  \n",
      " 10  measurement_2   21256 non-null  int64  \n",
      " 11  measurement_3   20968 non-null  float64\n",
      " 12  measurement_4   20832 non-null  float64\n",
      " 13  measurement_5   20708 non-null  float64\n",
      " 14  measurement_6   20626 non-null  float64\n",
      " 15  measurement_7   20491 non-null  float64\n",
      " 16  measurement_8   20414 non-null  float64\n",
      " 17  measurement_9   20267 non-null  float64\n",
      " 18  measurement_10  20208 non-null  float64\n",
      " 19  measurement_11  20056 non-null  float64\n",
      " 20  measurement_12  19986 non-null  float64\n",
      " 21  measurement_13  19825 non-null  float64\n",
      " 22  measurement_14  19752 non-null  float64\n",
      " 23  measurement_15  19665 non-null  float64\n",
      " 24  measurement_16  19542 non-null  float64\n",
      " 25  measurement_17  19428 non-null  float64\n",
      " 26  failure         21256 non-null  int64  \n",
      "dtypes: float64(16), int64(8), object(3)\n",
      "memory usage: 4.4+ MB\n"
     ]
    }
   ],
   "source": [
    "descricao.info()"
   ]
  },
  {
   "cell_type": "code",
   "execution_count": 5,
   "id": "1696aa2f",
   "metadata": {},
   "outputs": [
    {
     "data": {
      "text/plain": [
       "Index(['Unnamed: 0', 'id', 'product_code', 'loading', 'attribute_0',\n",
       "       'attribute_1', 'attribute_2', 'attribute_3', 'measurement_0',\n",
       "       'measurement_1', 'measurement_2', 'measurement_3', 'measurement_4',\n",
       "       'measurement_5', 'measurement_6', 'measurement_7', 'measurement_8',\n",
       "       'measurement_9', 'measurement_10', 'measurement_11', 'measurement_12',\n",
       "       'measurement_13', 'measurement_14', 'measurement_15', 'measurement_16',\n",
       "       'measurement_17', 'failure'],\n",
       "      dtype='object')"
      ]
     },
     "execution_count": 5,
     "metadata": {},
     "output_type": "execute_result"
    }
   ],
   "source": [
    "descricao.columns"
   ]
  },
  {
   "cell_type": "code",
   "execution_count": 6,
   "id": "dd804b1a",
   "metadata": {},
   "outputs": [
    {
     "data": {
      "text/plain": [
       "C    4624\n",
       "E    4242\n",
       "B    4208\n",
       "D    4109\n",
       "A    4073\n",
       "Name: product_code, dtype: int64"
      ]
     },
     "execution_count": 6,
     "metadata": {},
     "output_type": "execute_result"
    }
   ],
   "source": [
    "descricao.product_code.value_counts()"
   ]
  },
  {
   "cell_type": "code",
   "execution_count": 7,
   "id": "a4f574bf",
   "metadata": {},
   "outputs": [
    {
     "data": {
      "text/plain": [
       "product_code  attribute_0  attribute_1  attribute_2  attribute_3\n",
       "C             material_7   material_8   5            8              4624\n",
       "E             material_7   material_6   6            9              4242\n",
       "B             material_5   material_5   8            8              4208\n",
       "D             material_7   material_5   6            6              4109\n",
       "A             material_7   material_8   9            5              4073\n",
       "dtype: int64"
      ]
     },
     "execution_count": 7,
     "metadata": {},
     "output_type": "execute_result"
    }
   ],
   "source": [
    "descricao[\n",
    "    ['product_code', 'attribute_0', 'attribute_1', 'attribute_2', 'attribute_3']\n",
    "].value_counts()"
   ]
  },
  {
   "cell_type": "code",
   "execution_count": 8,
   "id": "94d4bea8",
   "metadata": {},
   "outputs": [
    {
     "data": {
      "text/plain": [
       "0    0.787401\n",
       "1    0.212599\n",
       "Name: failure, dtype: float64"
      ]
     },
     "execution_count": 8,
     "metadata": {},
     "output_type": "execute_result"
    }
   ],
   "source": [
    "descricao['failure'].value_counts(normalize=True)"
   ]
  },
  {
   "cell_type": "code",
   "execution_count": 9,
   "id": "61543449",
   "metadata": {
    "ExecuteTime": {
     "end_time": "2022-07-20T00:07:04.961090Z",
     "start_time": "2022-07-20T00:07:04.255844Z"
    }
   },
   "outputs": [
    {
     "data": {
      "text/plain": [
       "measurement_17    1828\n",
       "measurement_16    1714\n",
       "measurement_15    1591\n",
       "measurement_14    1504\n",
       "measurement_13    1431\n",
       "measurement_12    1270\n",
       "measurement_11    1200\n",
       "measurement_10    1048\n",
       "measurement_9      989\n",
       "measurement_8      842\n",
       "measurement_7      765\n",
       "measurement_6      630\n",
       "measurement_5      548\n",
       "measurement_4      424\n",
       "measurement_3      288\n",
       "loading            193\n",
       "Unnamed: 0           0\n",
       "id                   0\n",
       "measurement_2        0\n",
       "measurement_1        0\n",
       "measurement_0        0\n",
       "attribute_3          0\n",
       "attribute_2          0\n",
       "attribute_1          0\n",
       "attribute_0          0\n",
       "product_code         0\n",
       "failure              0\n",
       "dtype: int64"
      ]
     },
     "execution_count": 9,
     "metadata": {},
     "output_type": "execute_result"
    }
   ],
   "source": [
    "descricao.isna().sum().sort_values(ascending=False)"
   ]
  },
  {
   "cell_type": "markdown",
   "id": "877a9f63",
   "metadata": {},
   "source": [
    "# ANÁLISE E EXPLORAÇÃO DOS DADOS"
   ]
  },
  {
   "cell_type": "code",
   "execution_count": 10,
   "id": "f65c4290",
   "metadata": {},
   "outputs": [
    {
     "data": {
      "text/html": [
       "<div>\n",
       "<style scoped>\n",
       "    .dataframe tbody tr th:only-of-type {\n",
       "        vertical-align: middle;\n",
       "    }\n",
       "\n",
       "    .dataframe tbody tr th {\n",
       "        vertical-align: top;\n",
       "    }\n",
       "\n",
       "    .dataframe thead th {\n",
       "        text-align: right;\n",
       "    }\n",
       "</style>\n",
       "<table border=\"1\" class=\"dataframe\">\n",
       "  <thead>\n",
       "    <tr style=\"text-align: right;\">\n",
       "      <th></th>\n",
       "      <th>Unnamed: 0</th>\n",
       "      <th>id</th>\n",
       "      <th>loading</th>\n",
       "      <th>attribute_2</th>\n",
       "      <th>attribute_3</th>\n",
       "      <th>measurement_0</th>\n",
       "      <th>measurement_1</th>\n",
       "      <th>measurement_2</th>\n",
       "      <th>measurement_3</th>\n",
       "      <th>measurement_4</th>\n",
       "      <th>...</th>\n",
       "      <th>measurement_9</th>\n",
       "      <th>measurement_10</th>\n",
       "      <th>measurement_11</th>\n",
       "      <th>measurement_12</th>\n",
       "      <th>measurement_13</th>\n",
       "      <th>measurement_14</th>\n",
       "      <th>measurement_15</th>\n",
       "      <th>measurement_16</th>\n",
       "      <th>measurement_17</th>\n",
       "      <th>failure</th>\n",
       "    </tr>\n",
       "  </thead>\n",
       "  <tbody>\n",
       "    <tr>\n",
       "      <th>count</th>\n",
       "      <td>21256.000000</td>\n",
       "      <td>21256.000000</td>\n",
       "      <td>21063.000000</td>\n",
       "      <td>21256.000000</td>\n",
       "      <td>21256.000000</td>\n",
       "      <td>21256.000000</td>\n",
       "      <td>21256.000000</td>\n",
       "      <td>21256.000000</td>\n",
       "      <td>20968.000000</td>\n",
       "      <td>20832.000000</td>\n",
       "      <td>...</td>\n",
       "      <td>20267.000000</td>\n",
       "      <td>20208.000000</td>\n",
       "      <td>20056.000000</td>\n",
       "      <td>19986.000000</td>\n",
       "      <td>19825.000000</td>\n",
       "      <td>19752.000000</td>\n",
       "      <td>19665.000000</td>\n",
       "      <td>19542.000000</td>\n",
       "      <td>19428.000000</td>\n",
       "      <td>21256.000000</td>\n",
       "    </tr>\n",
       "    <tr>\n",
       "      <th>mean</th>\n",
       "      <td>13270.977042</td>\n",
       "      <td>13270.977042</td>\n",
       "      <td>127.903198</td>\n",
       "      <td>6.753246</td>\n",
       "      <td>7.238097</td>\n",
       "      <td>7.418047</td>\n",
       "      <td>8.222196</td>\n",
       "      <td>6.260303</td>\n",
       "      <td>17.793034</td>\n",
       "      <td>11.727584</td>\n",
       "      <td>...</td>\n",
       "      <td>11.435369</td>\n",
       "      <td>16.112582</td>\n",
       "      <td>19.174009</td>\n",
       "      <td>11.706258</td>\n",
       "      <td>15.651114</td>\n",
       "      <td>16.046656</td>\n",
       "      <td>14.993933</td>\n",
       "      <td>16.468174</td>\n",
       "      <td>701.753851</td>\n",
       "      <td>0.212599</td>\n",
       "    </tr>\n",
       "    <tr>\n",
       "      <th>std</th>\n",
       "      <td>7655.272601</td>\n",
       "      <td>7655.272601</td>\n",
       "      <td>39.174713</td>\n",
       "      <td>1.471965</td>\n",
       "      <td>1.454978</td>\n",
       "      <td>4.124430</td>\n",
       "      <td>4.212312</td>\n",
       "      <td>3.317758</td>\n",
       "      <td>1.001315</td>\n",
       "      <td>0.994918</td>\n",
       "      <td>...</td>\n",
       "      <td>1.001454</td>\n",
       "      <td>1.406117</td>\n",
       "      <td>1.525073</td>\n",
       "      <td>1.487670</td>\n",
       "      <td>1.153727</td>\n",
       "      <td>1.495215</td>\n",
       "      <td>1.548852</td>\n",
       "      <td>1.709557</td>\n",
       "      <td>123.443580</td>\n",
       "      <td>0.409156</td>\n",
       "    </tr>\n",
       "    <tr>\n",
       "      <th>min</th>\n",
       "      <td>0.000000</td>\n",
       "      <td>0.000000</td>\n",
       "      <td>33.160000</td>\n",
       "      <td>5.000000</td>\n",
       "      <td>5.000000</td>\n",
       "      <td>0.000000</td>\n",
       "      <td>0.000000</td>\n",
       "      <td>0.000000</td>\n",
       "      <td>13.968000</td>\n",
       "      <td>8.008000</td>\n",
       "      <td>...</td>\n",
       "      <td>7.537000</td>\n",
       "      <td>9.323000</td>\n",
       "      <td>12.461000</td>\n",
       "      <td>5.181000</td>\n",
       "      <td>10.890000</td>\n",
       "      <td>9.140000</td>\n",
       "      <td>9.104000</td>\n",
       "      <td>9.701000</td>\n",
       "      <td>196.787000</td>\n",
       "      <td>0.000000</td>\n",
       "    </tr>\n",
       "    <tr>\n",
       "      <th>25%</th>\n",
       "      <td>6668.750000</td>\n",
       "      <td>6668.750000</td>\n",
       "      <td>100.110000</td>\n",
       "      <td>6.000000</td>\n",
       "      <td>6.000000</td>\n",
       "      <td>4.000000</td>\n",
       "      <td>5.000000</td>\n",
       "      <td>4.000000</td>\n",
       "      <td>17.118000</td>\n",
       "      <td>11.050000</td>\n",
       "      <td>...</td>\n",
       "      <td>10.761000</td>\n",
       "      <td>15.205000</td>\n",
       "      <td>18.166000</td>\n",
       "      <td>10.714000</td>\n",
       "      <td>14.891000</td>\n",
       "      <td>15.049000</td>\n",
       "      <td>13.950000</td>\n",
       "      <td>15.276000</td>\n",
       "      <td>619.493250</td>\n",
       "      <td>0.000000</td>\n",
       "    </tr>\n",
       "    <tr>\n",
       "      <th>50%</th>\n",
       "      <td>13226.500000</td>\n",
       "      <td>13226.500000</td>\n",
       "      <td>122.310000</td>\n",
       "      <td>6.000000</td>\n",
       "      <td>8.000000</td>\n",
       "      <td>7.000000</td>\n",
       "      <td>8.000000</td>\n",
       "      <td>6.000000</td>\n",
       "      <td>17.786000</td>\n",
       "      <td>11.729500</td>\n",
       "      <td>...</td>\n",
       "      <td>11.433000</td>\n",
       "      <td>16.125000</td>\n",
       "      <td>19.222000</td>\n",
       "      <td>11.727000</td>\n",
       "      <td>15.624000</td>\n",
       "      <td>16.037500</td>\n",
       "      <td>14.966000</td>\n",
       "      <td>16.441000</td>\n",
       "      <td>701.695000</td>\n",
       "      <td>0.000000</td>\n",
       "    </tr>\n",
       "    <tr>\n",
       "      <th>75%</th>\n",
       "      <td>19895.250000</td>\n",
       "      <td>19895.250000</td>\n",
       "      <td>149.140000</td>\n",
       "      <td>8.000000</td>\n",
       "      <td>8.000000</td>\n",
       "      <td>10.000000</td>\n",
       "      <td>11.000000</td>\n",
       "      <td>8.000000</td>\n",
       "      <td>18.470250</td>\n",
       "      <td>12.405000</td>\n",
       "      <td>...</td>\n",
       "      <td>12.108000</td>\n",
       "      <td>17.018000</td>\n",
       "      <td>20.208250</td>\n",
       "      <td>12.712000</td>\n",
       "      <td>16.374000</td>\n",
       "      <td>17.085000</td>\n",
       "      <td>16.014000</td>\n",
       "      <td>17.630000</td>\n",
       "      <td>784.679250</td>\n",
       "      <td>0.000000</td>\n",
       "    </tr>\n",
       "    <tr>\n",
       "      <th>max</th>\n",
       "      <td>26568.000000</td>\n",
       "      <td>26568.000000</td>\n",
       "      <td>385.860000</td>\n",
       "      <td>9.000000</td>\n",
       "      <td>9.000000</td>\n",
       "      <td>29.000000</td>\n",
       "      <td>29.000000</td>\n",
       "      <td>24.000000</td>\n",
       "      <td>21.336000</td>\n",
       "      <td>15.379000</td>\n",
       "      <td>...</td>\n",
       "      <td>15.412000</td>\n",
       "      <td>22.479000</td>\n",
       "      <td>25.640000</td>\n",
       "      <td>17.663000</td>\n",
       "      <td>22.713000</td>\n",
       "      <td>21.940000</td>\n",
       "      <td>21.626000</td>\n",
       "      <td>24.094000</td>\n",
       "      <td>1312.794000</td>\n",
       "      <td>1.000000</td>\n",
       "    </tr>\n",
       "  </tbody>\n",
       "</table>\n",
       "<p>8 rows × 24 columns</p>\n",
       "</div>"
      ],
      "text/plain": [
       "         Unnamed: 0            id       loading   attribute_2   attribute_3  \\\n",
       "count  21256.000000  21256.000000  21063.000000  21256.000000  21256.000000   \n",
       "mean   13270.977042  13270.977042    127.903198      6.753246      7.238097   \n",
       "std     7655.272601   7655.272601     39.174713      1.471965      1.454978   \n",
       "min        0.000000      0.000000     33.160000      5.000000      5.000000   \n",
       "25%     6668.750000   6668.750000    100.110000      6.000000      6.000000   \n",
       "50%    13226.500000  13226.500000    122.310000      6.000000      8.000000   \n",
       "75%    19895.250000  19895.250000    149.140000      8.000000      8.000000   \n",
       "max    26568.000000  26568.000000    385.860000      9.000000      9.000000   \n",
       "\n",
       "       measurement_0  measurement_1  measurement_2  measurement_3  \\\n",
       "count   21256.000000   21256.000000   21256.000000   20968.000000   \n",
       "mean        7.418047       8.222196       6.260303      17.793034   \n",
       "std         4.124430       4.212312       3.317758       1.001315   \n",
       "min         0.000000       0.000000       0.000000      13.968000   \n",
       "25%         4.000000       5.000000       4.000000      17.118000   \n",
       "50%         7.000000       8.000000       6.000000      17.786000   \n",
       "75%        10.000000      11.000000       8.000000      18.470250   \n",
       "max        29.000000      29.000000      24.000000      21.336000   \n",
       "\n",
       "       measurement_4  ...  measurement_9  measurement_10  measurement_11  \\\n",
       "count   20832.000000  ...   20267.000000    20208.000000    20056.000000   \n",
       "mean       11.727584  ...      11.435369       16.112582       19.174009   \n",
       "std         0.994918  ...       1.001454        1.406117        1.525073   \n",
       "min         8.008000  ...       7.537000        9.323000       12.461000   \n",
       "25%        11.050000  ...      10.761000       15.205000       18.166000   \n",
       "50%        11.729500  ...      11.433000       16.125000       19.222000   \n",
       "75%        12.405000  ...      12.108000       17.018000       20.208250   \n",
       "max        15.379000  ...      15.412000       22.479000       25.640000   \n",
       "\n",
       "       measurement_12  measurement_13  measurement_14  measurement_15  \\\n",
       "count    19986.000000    19825.000000    19752.000000    19665.000000   \n",
       "mean        11.706258       15.651114       16.046656       14.993933   \n",
       "std          1.487670        1.153727        1.495215        1.548852   \n",
       "min          5.181000       10.890000        9.140000        9.104000   \n",
       "25%         10.714000       14.891000       15.049000       13.950000   \n",
       "50%         11.727000       15.624000       16.037500       14.966000   \n",
       "75%         12.712000       16.374000       17.085000       16.014000   \n",
       "max         17.663000       22.713000       21.940000       21.626000   \n",
       "\n",
       "       measurement_16  measurement_17       failure  \n",
       "count    19542.000000    19428.000000  21256.000000  \n",
       "mean        16.468174      701.753851      0.212599  \n",
       "std          1.709557      123.443580      0.409156  \n",
       "min          9.701000      196.787000      0.000000  \n",
       "25%         15.276000      619.493250      0.000000  \n",
       "50%         16.441000      701.695000      0.000000  \n",
       "75%         17.630000      784.679250      0.000000  \n",
       "max         24.094000     1312.794000      1.000000  \n",
       "\n",
       "[8 rows x 24 columns]"
      ]
     },
     "execution_count": 10,
     "metadata": {},
     "output_type": "execute_result"
    }
   ],
   "source": [
    "# Análise inicial dos dados, como info, dados faltantes (para retirar), estudar as colunas, dados duplicados. SK_ID_CURR\n",
    "# análises estatísticas, média, mediana, correlação,\n",
    "# visualização dos dados\n",
    "descricao.describe()"
   ]
  },
  {
   "cell_type": "code",
   "execution_count": null,
   "id": "3b7da77e",
   "metadata": {},
   "outputs": [],
   "source": [
    "# Colunas com correlação maior que 10% piorou o roc_auc_score\n",
    "# corr = descricao.corr().failure.abs()\n",
    "# cols_corr = corr[corr >= 0.01].index.to_list()\n",
    "# cols_corr"
   ]
  },
  {
   "cell_type": "code",
   "execution_count": 11,
   "id": "db58ca93",
   "metadata": {},
   "outputs": [
    {
     "name": "stderr",
     "output_type": "stream",
     "text": [
      "/tmp/ipykernel_229528/3488777659.py:1: FutureWarning: The default value of numeric_only in DataFrame.corr is deprecated. In a future version, it will default to False. Select only valid columns or specify the value of numeric_only to silence this warning.\n",
      "  pd.DataFrame(descricao.corr().failure.abs()).failure.sort_values()\n"
     ]
    },
    {
     "data": {
      "text/plain": [
       "measurement_10    0.000242\n",
       "measurement_16    0.000551\n",
       "measurement_13    0.000839\n",
       "measurement_3     0.001669\n",
       "measurement_12    0.002589\n",
       "measurement_11    0.002805\n",
       "id                0.002856\n",
       "Unnamed: 0        0.002856\n",
       "attribute_2       0.003678\n",
       "measurement_15    0.003968\n",
       "measurement_9     0.005390\n",
       "measurement_1     0.010485\n",
       "measurement_14    0.011033\n",
       "measurement_4     0.012188\n",
       "measurement_0     0.012569\n",
       "measurement_2     0.013437\n",
       "attribute_3       0.015961\n",
       "measurement_6     0.016212\n",
       "measurement_7     0.016590\n",
       "measurement_8     0.017935\n",
       "measurement_5     0.022367\n",
       "measurement_17    0.034919\n",
       "loading           0.131245\n",
       "failure           1.000000\n",
       "Name: failure, dtype: float64"
      ]
     },
     "execution_count": 11,
     "metadata": {},
     "output_type": "execute_result"
    }
   ],
   "source": [
    "pd.DataFrame(descricao.corr().failure.abs()).failure.sort_values()\n"
   ]
  },
  {
   "cell_type": "code",
   "execution_count": 12,
   "id": "9cb4b886",
   "metadata": {},
   "outputs": [],
   "source": [
    "def mean(df):\n",
    "    measurements = [f\"measurement_{i}\" for i in range(18)]\n",
    "    attributes = [\"attribute_2\", \"attribute_3\"]\n",
    "\n",
    "    df[\"attribute_mean\"] = df[attributes].mean(axis=1)\n",
    "    df[\"measurement_mean\"] = df[measurements].mean(axis=1)\n",
    "\n",
    "    columns = attributes + measurements + [\"Unnamed: 0\", \"id\"]\n",
    "\n",
    "    return df.drop(columns=columns)\n"
   ]
  },
  {
   "cell_type": "code",
   "execution_count": 13,
   "id": "07cb36f0",
   "metadata": {},
   "outputs": [],
   "source": [
    "def median(df):\n",
    "    measurements = [f\"measurement_{i}\" for i in range(18)]\n",
    "    attributes = [\"attribute_2\", \"attribute_3\"]\n",
    "\n",
    "    df[\"attribute_median\"] = df[attributes].median(axis=1)\n",
    "    df[\"measurement_median\"] = df[measurements].median(axis=1)\n",
    "\n",
    "    columns = attributes + measurements + [\"Unnamed: 0\", \"id\"]\n",
    "\n",
    "    return df.drop(columns=columns)\n"
   ]
  },
  {
   "cell_type": "code",
   "execution_count": 14,
   "id": "cf67e065",
   "metadata": {},
   "outputs": [],
   "source": [
    "# Particinar os dados (split train e test) -> train e validation\n",
    "from sklearn.model_selection import train_test_split\n",
    "\n",
    "df_calc = mean(descricao.copy())\n",
    "# df_calc = median(descricao.copy())\n",
    "\n",
    "X_full = df_calc.drop(columns=\"failure\")\n",
    "y_full = df_calc.failure\n",
    "\n",
    "X_train, X_test, y_train, y_test = train_test_split(\n",
    "    X_full, y_full, train_size=0.1, test_size=0.3, random_state=42, stratify=y_full\n",
    ")\n"
   ]
  },
  {
   "cell_type": "code",
   "execution_count": 15,
   "id": "6278e1af",
   "metadata": {},
   "outputs": [
    {
     "data": {
      "text/html": [
       "<div>\n",
       "<style scoped>\n",
       "    .dataframe tbody tr th:only-of-type {\n",
       "        vertical-align: middle;\n",
       "    }\n",
       "\n",
       "    .dataframe tbody tr th {\n",
       "        vertical-align: top;\n",
       "    }\n",
       "\n",
       "    .dataframe thead th {\n",
       "        text-align: right;\n",
       "    }\n",
       "</style>\n",
       "<table border=\"1\" class=\"dataframe\">\n",
       "  <thead>\n",
       "    <tr style=\"text-align: right;\">\n",
       "      <th></th>\n",
       "      <th>product_code</th>\n",
       "      <th>loading</th>\n",
       "      <th>attribute_0</th>\n",
       "      <th>attribute_1</th>\n",
       "      <th>attribute_mean</th>\n",
       "      <th>measurement_mean</th>\n",
       "    </tr>\n",
       "  </thead>\n",
       "  <tbody>\n",
       "    <tr>\n",
       "      <th>0</th>\n",
       "      <td>A</td>\n",
       "      <td>94.34</td>\n",
       "      <td>material_7</td>\n",
       "      <td>material_8</td>\n",
       "      <td>7.0</td>\n",
       "      <td>59.425471</td>\n",
       "    </tr>\n",
       "    <tr>\n",
       "      <th>1</th>\n",
       "      <td>E</td>\n",
       "      <td>117.02</td>\n",
       "      <td>material_7</td>\n",
       "      <td>material_6</td>\n",
       "      <td>7.5</td>\n",
       "      <td>55.541882</td>\n",
       "    </tr>\n",
       "    <tr>\n",
       "      <th>2</th>\n",
       "      <td>B</td>\n",
       "      <td>256.42</td>\n",
       "      <td>material_5</td>\n",
       "      <td>material_5</td>\n",
       "      <td>8.0</td>\n",
       "      <td>52.067706</td>\n",
       "    </tr>\n",
       "    <tr>\n",
       "      <th>3</th>\n",
       "      <td>D</td>\n",
       "      <td>87.76</td>\n",
       "      <td>material_7</td>\n",
       "      <td>material_5</td>\n",
       "      <td>6.0</td>\n",
       "      <td>43.269889</td>\n",
       "    </tr>\n",
       "    <tr>\n",
       "      <th>4</th>\n",
       "      <td>C</td>\n",
       "      <td>97.84</td>\n",
       "      <td>material_7</td>\n",
       "      <td>material_8</td>\n",
       "      <td>6.5</td>\n",
       "      <td>44.765176</td>\n",
       "    </tr>\n",
       "    <tr>\n",
       "      <th>...</th>\n",
       "      <td>...</td>\n",
       "      <td>...</td>\n",
       "      <td>...</td>\n",
       "      <td>...</td>\n",
       "      <td>...</td>\n",
       "      <td>...</td>\n",
       "    </tr>\n",
       "    <tr>\n",
       "      <th>21251</th>\n",
       "      <td>D</td>\n",
       "      <td>181.27</td>\n",
       "      <td>material_7</td>\n",
       "      <td>material_5</td>\n",
       "      <td>6.0</td>\n",
       "      <td>55.377059</td>\n",
       "    </tr>\n",
       "    <tr>\n",
       "      <th>21252</th>\n",
       "      <td>E</td>\n",
       "      <td>131.92</td>\n",
       "      <td>material_7</td>\n",
       "      <td>material_6</td>\n",
       "      <td>7.5</td>\n",
       "      <td>61.408667</td>\n",
       "    </tr>\n",
       "    <tr>\n",
       "      <th>21253</th>\n",
       "      <td>C</td>\n",
       "      <td>199.92</td>\n",
       "      <td>material_7</td>\n",
       "      <td>material_8</td>\n",
       "      <td>6.5</td>\n",
       "      <td>66.753882</td>\n",
       "    </tr>\n",
       "    <tr>\n",
       "      <th>21254</th>\n",
       "      <td>B</td>\n",
       "      <td>129.26</td>\n",
       "      <td>material_5</td>\n",
       "      <td>material_5</td>\n",
       "      <td>8.0</td>\n",
       "      <td>56.125118</td>\n",
       "    </tr>\n",
       "    <tr>\n",
       "      <th>21255</th>\n",
       "      <td>E</td>\n",
       "      <td>87.25</td>\n",
       "      <td>material_7</td>\n",
       "      <td>material_6</td>\n",
       "      <td>7.5</td>\n",
       "      <td>57.779353</td>\n",
       "    </tr>\n",
       "  </tbody>\n",
       "</table>\n",
       "<p>21256 rows × 6 columns</p>\n",
       "</div>"
      ],
      "text/plain": [
       "      product_code  loading attribute_0 attribute_1  attribute_mean  \\\n",
       "0                A    94.34  material_7  material_8             7.0   \n",
       "1                E   117.02  material_7  material_6             7.5   \n",
       "2                B   256.42  material_5  material_5             8.0   \n",
       "3                D    87.76  material_7  material_5             6.0   \n",
       "4                C    97.84  material_7  material_8             6.5   \n",
       "...            ...      ...         ...         ...             ...   \n",
       "21251            D   181.27  material_7  material_5             6.0   \n",
       "21252            E   131.92  material_7  material_6             7.5   \n",
       "21253            C   199.92  material_7  material_8             6.5   \n",
       "21254            B   129.26  material_5  material_5             8.0   \n",
       "21255            E    87.25  material_7  material_6             7.5   \n",
       "\n",
       "       measurement_mean  \n",
       "0             59.425471  \n",
       "1             55.541882  \n",
       "2             52.067706  \n",
       "3             43.269889  \n",
       "4             44.765176  \n",
       "...                 ...  \n",
       "21251         55.377059  \n",
       "21252         61.408667  \n",
       "21253         66.753882  \n",
       "21254         56.125118  \n",
       "21255         57.779353  \n",
       "\n",
       "[21256 rows x 6 columns]"
      ]
     },
     "execution_count": 15,
     "metadata": {},
     "output_type": "execute_result"
    }
   ],
   "source": [
    "X_full"
   ]
  },
  {
   "cell_type": "markdown",
   "id": "30e1ee9f",
   "metadata": {},
   "source": [
    "## Remove colunas de atributos"
   ]
  },
  {
   "cell_type": "code",
   "execution_count": null,
   "id": "0f0ee99b",
   "metadata": {},
   "outputs": [],
   "source": [
    "# Particinar os dados (split train e test) -> train e validation\n",
    "from sklearn.model_selection import train_test_split\n",
    "\n",
    "columns = [\n",
    "    \"Unnamed: 0\",\n",
    "    \"id\",\n",
    "    \"failure\",\n",
    "    \"product_code\",\n",
    "    \"attribute_0\",\n",
    "    \"attribute_1\",\n",
    "    # \"attribute_2\",\n",
    "    # \"attribute_3\",\n",
    "]\n",
    "\n",
    "X_full = descricao.drop(columns=columns)\n",
    "y_full = descricao.failure\n",
    "\n",
    "X_train, X_test, y_train, y_test = train_test_split(\n",
    "    X_full, y_full, train_size=0.1, test_size=0.3, random_state=42, stratify=y_full\n",
    ")\n"
   ]
  },
  {
   "cell_type": "markdown",
   "id": "30093562",
   "metadata": {},
   "source": [
    "# Preprocessamento de dados -> FEATURE ENGINEERING"
   ]
  },
  {
   "cell_type": "code",
   "execution_count": 16,
   "id": "15e8a03f",
   "metadata": {},
   "outputs": [
    {
     "data": {
      "text/html": [
       "<style>#sk-container-id-1 {color: black;background-color: white;}#sk-container-id-1 pre{padding: 0;}#sk-container-id-1 div.sk-toggleable {background-color: white;}#sk-container-id-1 label.sk-toggleable__label {cursor: pointer;display: block;width: 100%;margin-bottom: 0;padding: 0.3em;box-sizing: border-box;text-align: center;}#sk-container-id-1 label.sk-toggleable__label-arrow:before {content: \"▸\";float: left;margin-right: 0.25em;color: #696969;}#sk-container-id-1 label.sk-toggleable__label-arrow:hover:before {color: black;}#sk-container-id-1 div.sk-estimator:hover label.sk-toggleable__label-arrow:before {color: black;}#sk-container-id-1 div.sk-toggleable__content {max-height: 0;max-width: 0;overflow: hidden;text-align: left;background-color: #f0f8ff;}#sk-container-id-1 div.sk-toggleable__content pre {margin: 0.2em;color: black;border-radius: 0.25em;background-color: #f0f8ff;}#sk-container-id-1 input.sk-toggleable__control:checked~div.sk-toggleable__content {max-height: 200px;max-width: 100%;overflow: auto;}#sk-container-id-1 input.sk-toggleable__control:checked~label.sk-toggleable__label-arrow:before {content: \"▾\";}#sk-container-id-1 div.sk-estimator input.sk-toggleable__control:checked~label.sk-toggleable__label {background-color: #d4ebff;}#sk-container-id-1 div.sk-label input.sk-toggleable__control:checked~label.sk-toggleable__label {background-color: #d4ebff;}#sk-container-id-1 input.sk-hidden--visually {border: 0;clip: rect(1px 1px 1px 1px);clip: rect(1px, 1px, 1px, 1px);height: 1px;margin: -1px;overflow: hidden;padding: 0;position: absolute;width: 1px;}#sk-container-id-1 div.sk-estimator {font-family: monospace;background-color: #f0f8ff;border: 1px dotted black;border-radius: 0.25em;box-sizing: border-box;margin-bottom: 0.5em;}#sk-container-id-1 div.sk-estimator:hover {background-color: #d4ebff;}#sk-container-id-1 div.sk-parallel-item::after {content: \"\";width: 100%;border-bottom: 1px solid gray;flex-grow: 1;}#sk-container-id-1 div.sk-label:hover label.sk-toggleable__label {background-color: #d4ebff;}#sk-container-id-1 div.sk-serial::before {content: \"\";position: absolute;border-left: 1px solid gray;box-sizing: border-box;top: 0;bottom: 0;left: 50%;z-index: 0;}#sk-container-id-1 div.sk-serial {display: flex;flex-direction: column;align-items: center;background-color: white;padding-right: 0.2em;padding-left: 0.2em;position: relative;}#sk-container-id-1 div.sk-item {position: relative;z-index: 1;}#sk-container-id-1 div.sk-parallel {display: flex;align-items: stretch;justify-content: center;background-color: white;position: relative;}#sk-container-id-1 div.sk-item::before, #sk-container-id-1 div.sk-parallel-item::before {content: \"\";position: absolute;border-left: 1px solid gray;box-sizing: border-box;top: 0;bottom: 0;left: 50%;z-index: -1;}#sk-container-id-1 div.sk-parallel-item {display: flex;flex-direction: column;z-index: 1;position: relative;background-color: white;}#sk-container-id-1 div.sk-parallel-item:first-child::after {align-self: flex-end;width: 50%;}#sk-container-id-1 div.sk-parallel-item:last-child::after {align-self: flex-start;width: 50%;}#sk-container-id-1 div.sk-parallel-item:only-child::after {width: 0;}#sk-container-id-1 div.sk-dashed-wrapped {border: 1px dashed gray;margin: 0 0.4em 0.5em 0.4em;box-sizing: border-box;padding-bottom: 0.4em;background-color: white;}#sk-container-id-1 div.sk-label label {font-family: monospace;font-weight: bold;display: inline-block;line-height: 1.2em;}#sk-container-id-1 div.sk-label-container {text-align: center;}#sk-container-id-1 div.sk-container {/* jupyter's `normalize.less` sets `[hidden] { display: none; }` but bootstrap.min.css set `[hidden] { display: none !important; }` so we also need the `!important` here to be able to override the default hidden behavior on the sphinx rendered scikit-learn.org. See: https://github.com/scikit-learn/scikit-learn/issues/21755 */display: inline-block !important;position: relative;}#sk-container-id-1 div.sk-text-repr-fallback {display: none;}</style><div id=\"sk-container-id-1\" class=\"sk-top-container\"><div class=\"sk-text-repr-fallback\"><pre>ColumnTransformer(transformers=[(&#x27;numerical&#x27;,\n",
       "                                 Pipeline(steps=[(&#x27;imputer&#x27;, SimpleImputer()),\n",
       "                                                 (&#x27;scaler&#x27;, StandardScaler())]),\n",
       "                                 [&#x27;loading&#x27;, &#x27;attribute_mean&#x27;,\n",
       "                                  &#x27;measurement_mean&#x27;]),\n",
       "                                (&#x27;categorical&#x27;,\n",
       "                                 Pipeline(steps=[(&#x27;imputer&#x27;,\n",
       "                                                  SimpleImputer(strategy=&#x27;constant&#x27;)),\n",
       "                                                 (&#x27;ohe&#x27;,\n",
       "                                                  OneHotEncoder(drop=&#x27;first&#x27;))]),\n",
       "                                 [&#x27;product_code&#x27;, &#x27;attribute_0&#x27;,\n",
       "                                  &#x27;attribute_1&#x27;])])</pre><b>In a Jupyter environment, please rerun this cell to show the HTML representation or trust the notebook. <br />On GitHub, the HTML representation is unable to render, please try loading this page with nbviewer.org.</b></div><div class=\"sk-container\" hidden><div class=\"sk-item sk-dashed-wrapped\"><div class=\"sk-label-container\"><div class=\"sk-label sk-toggleable\"><input class=\"sk-toggleable__control sk-hidden--visually\" id=\"sk-estimator-id-1\" type=\"checkbox\" ><label for=\"sk-estimator-id-1\" class=\"sk-toggleable__label sk-toggleable__label-arrow\">ColumnTransformer</label><div class=\"sk-toggleable__content\"><pre>ColumnTransformer(transformers=[(&#x27;numerical&#x27;,\n",
       "                                 Pipeline(steps=[(&#x27;imputer&#x27;, SimpleImputer()),\n",
       "                                                 (&#x27;scaler&#x27;, StandardScaler())]),\n",
       "                                 [&#x27;loading&#x27;, &#x27;attribute_mean&#x27;,\n",
       "                                  &#x27;measurement_mean&#x27;]),\n",
       "                                (&#x27;categorical&#x27;,\n",
       "                                 Pipeline(steps=[(&#x27;imputer&#x27;,\n",
       "                                                  SimpleImputer(strategy=&#x27;constant&#x27;)),\n",
       "                                                 (&#x27;ohe&#x27;,\n",
       "                                                  OneHotEncoder(drop=&#x27;first&#x27;))]),\n",
       "                                 [&#x27;product_code&#x27;, &#x27;attribute_0&#x27;,\n",
       "                                  &#x27;attribute_1&#x27;])])</pre></div></div></div><div class=\"sk-parallel\"><div class=\"sk-parallel-item\"><div class=\"sk-item\"><div class=\"sk-label-container\"><div class=\"sk-label sk-toggleable\"><input class=\"sk-toggleable__control sk-hidden--visually\" id=\"sk-estimator-id-2\" type=\"checkbox\" ><label for=\"sk-estimator-id-2\" class=\"sk-toggleable__label sk-toggleable__label-arrow\">numerical</label><div class=\"sk-toggleable__content\"><pre>[&#x27;loading&#x27;, &#x27;attribute_mean&#x27;, &#x27;measurement_mean&#x27;]</pre></div></div></div><div class=\"sk-serial\"><div class=\"sk-item\"><div class=\"sk-serial\"><div class=\"sk-item\"><div class=\"sk-estimator sk-toggleable\"><input class=\"sk-toggleable__control sk-hidden--visually\" id=\"sk-estimator-id-3\" type=\"checkbox\" ><label for=\"sk-estimator-id-3\" class=\"sk-toggleable__label sk-toggleable__label-arrow\">SimpleImputer</label><div class=\"sk-toggleable__content\"><pre>SimpleImputer()</pre></div></div></div><div class=\"sk-item\"><div class=\"sk-estimator sk-toggleable\"><input class=\"sk-toggleable__control sk-hidden--visually\" id=\"sk-estimator-id-4\" type=\"checkbox\" ><label for=\"sk-estimator-id-4\" class=\"sk-toggleable__label sk-toggleable__label-arrow\">StandardScaler</label><div class=\"sk-toggleable__content\"><pre>StandardScaler()</pre></div></div></div></div></div></div></div></div><div class=\"sk-parallel-item\"><div class=\"sk-item\"><div class=\"sk-label-container\"><div class=\"sk-label sk-toggleable\"><input class=\"sk-toggleable__control sk-hidden--visually\" id=\"sk-estimator-id-5\" type=\"checkbox\" ><label for=\"sk-estimator-id-5\" class=\"sk-toggleable__label sk-toggleable__label-arrow\">categorical</label><div class=\"sk-toggleable__content\"><pre>[&#x27;product_code&#x27;, &#x27;attribute_0&#x27;, &#x27;attribute_1&#x27;]</pre></div></div></div><div class=\"sk-serial\"><div class=\"sk-item\"><div class=\"sk-serial\"><div class=\"sk-item\"><div class=\"sk-estimator sk-toggleable\"><input class=\"sk-toggleable__control sk-hidden--visually\" id=\"sk-estimator-id-6\" type=\"checkbox\" ><label for=\"sk-estimator-id-6\" class=\"sk-toggleable__label sk-toggleable__label-arrow\">SimpleImputer</label><div class=\"sk-toggleable__content\"><pre>SimpleImputer(strategy=&#x27;constant&#x27;)</pre></div></div></div><div class=\"sk-item\"><div class=\"sk-estimator sk-toggleable\"><input class=\"sk-toggleable__control sk-hidden--visually\" id=\"sk-estimator-id-7\" type=\"checkbox\" ><label for=\"sk-estimator-id-7\" class=\"sk-toggleable__label sk-toggleable__label-arrow\">OneHotEncoder</label><div class=\"sk-toggleable__content\"><pre>OneHotEncoder(drop=&#x27;first&#x27;)</pre></div></div></div></div></div></div></div></div></div></div></div></div>"
      ],
      "text/plain": [
       "ColumnTransformer(transformers=[('numerical',\n",
       "                                 Pipeline(steps=[('imputer', SimpleImputer()),\n",
       "                                                 ('scaler', StandardScaler())]),\n",
       "                                 ['loading', 'attribute_mean',\n",
       "                                  'measurement_mean']),\n",
       "                                ('categorical',\n",
       "                                 Pipeline(steps=[('imputer',\n",
       "                                                  SimpleImputer(strategy='constant')),\n",
       "                                                 ('ohe',\n",
       "                                                  OneHotEncoder(drop='first'))]),\n",
       "                                 ['product_code', 'attribute_0',\n",
       "                                  'attribute_1'])])"
      ]
     },
     "execution_count": 16,
     "metadata": {},
     "output_type": "execute_result"
    }
   ],
   "source": [
    "# Preencher dados faltantes, transformar colunas categóricas em numéricas (ou dummies), retirar colunas com mais de n% dos dados faltantes\n",
    "# Extração de dados, seleção de dados, balanceamento de classe!\n",
    "\n",
    "# Criar novas colunas, por exemplo taxa (quantidade de pagamento)\n",
    "from sklearn.ensemble import RandomForestClassifier\n",
    "from sklearn.pipeline import Pipeline\n",
    "from sklearn.impute import SimpleImputer\n",
    "from sklearn.preprocessing import FunctionTransformer, OneHotEncoder, StandardScaler\n",
    "from sklearn.compose import ColumnTransformer\n",
    "\n",
    "numerical = X_full.select_dtypes(include=\"number\").columns.to_list()\n",
    "pipe_numerical = Pipeline(\n",
    "    [\n",
    "        # ('function', FunctionTransformer(mean)),\n",
    "        (\"imputer\", SimpleImputer(strategy=\"mean\")),\n",
    "        (\"scaler\", StandardScaler()),\n",
    "    ]\n",
    ")\n",
    "\n",
    "categorical = X_full.select_dtypes(exclude=\"number\").columns.to_list()\n",
    "pipe_categorical = Pipeline(\n",
    "    [\n",
    "        (\"imputer\", SimpleImputer(strategy=\"constant\")),\n",
    "        (\"ohe\", OneHotEncoder(drop=\"first\")),\n",
    "    ]\n",
    ")\n",
    "\n",
    "preprocessor = ColumnTransformer(\n",
    "    [\n",
    "        (\"numerical\", pipe_numerical, numerical),\n",
    "        (\"categorical\", pipe_categorical, categorical),\n",
    "    ],\n",
    ")\n",
    "preprocessor\n"
   ]
  },
  {
   "cell_type": "markdown",
   "id": "ff77104f",
   "metadata": {
    "ExecuteTime": {
     "end_time": "2022-07-20T00:31:15.883860Z",
     "start_time": "2022-07-20T00:31:15.870289Z"
    }
   },
   "source": [
    "## PIPELINE\n",
    "\n",
    "- remover tais colunas\n",
    "- criar outras colunas\n",
    "- imputer mean nas colunas numéricas\n",
    "- encoding nas categóricas\n",
    "- scaler\n",
    "\n",
    "- balanceamento de classe"
   ]
  },
  {
   "cell_type": "code",
   "execution_count": 17,
   "id": "146c08d7",
   "metadata": {},
   "outputs": [
    {
     "data": {
      "text/html": [
       "<style>#sk-container-id-2 {color: black;background-color: white;}#sk-container-id-2 pre{padding: 0;}#sk-container-id-2 div.sk-toggleable {background-color: white;}#sk-container-id-2 label.sk-toggleable__label {cursor: pointer;display: block;width: 100%;margin-bottom: 0;padding: 0.3em;box-sizing: border-box;text-align: center;}#sk-container-id-2 label.sk-toggleable__label-arrow:before {content: \"▸\";float: left;margin-right: 0.25em;color: #696969;}#sk-container-id-2 label.sk-toggleable__label-arrow:hover:before {color: black;}#sk-container-id-2 div.sk-estimator:hover label.sk-toggleable__label-arrow:before {color: black;}#sk-container-id-2 div.sk-toggleable__content {max-height: 0;max-width: 0;overflow: hidden;text-align: left;background-color: #f0f8ff;}#sk-container-id-2 div.sk-toggleable__content pre {margin: 0.2em;color: black;border-radius: 0.25em;background-color: #f0f8ff;}#sk-container-id-2 input.sk-toggleable__control:checked~div.sk-toggleable__content {max-height: 200px;max-width: 100%;overflow: auto;}#sk-container-id-2 input.sk-toggleable__control:checked~label.sk-toggleable__label-arrow:before {content: \"▾\";}#sk-container-id-2 div.sk-estimator input.sk-toggleable__control:checked~label.sk-toggleable__label {background-color: #d4ebff;}#sk-container-id-2 div.sk-label input.sk-toggleable__control:checked~label.sk-toggleable__label {background-color: #d4ebff;}#sk-container-id-2 input.sk-hidden--visually {border: 0;clip: rect(1px 1px 1px 1px);clip: rect(1px, 1px, 1px, 1px);height: 1px;margin: -1px;overflow: hidden;padding: 0;position: absolute;width: 1px;}#sk-container-id-2 div.sk-estimator {font-family: monospace;background-color: #f0f8ff;border: 1px dotted black;border-radius: 0.25em;box-sizing: border-box;margin-bottom: 0.5em;}#sk-container-id-2 div.sk-estimator:hover {background-color: #d4ebff;}#sk-container-id-2 div.sk-parallel-item::after {content: \"\";width: 100%;border-bottom: 1px solid gray;flex-grow: 1;}#sk-container-id-2 div.sk-label:hover label.sk-toggleable__label {background-color: #d4ebff;}#sk-container-id-2 div.sk-serial::before {content: \"\";position: absolute;border-left: 1px solid gray;box-sizing: border-box;top: 0;bottom: 0;left: 50%;z-index: 0;}#sk-container-id-2 div.sk-serial {display: flex;flex-direction: column;align-items: center;background-color: white;padding-right: 0.2em;padding-left: 0.2em;position: relative;}#sk-container-id-2 div.sk-item {position: relative;z-index: 1;}#sk-container-id-2 div.sk-parallel {display: flex;align-items: stretch;justify-content: center;background-color: white;position: relative;}#sk-container-id-2 div.sk-item::before, #sk-container-id-2 div.sk-parallel-item::before {content: \"\";position: absolute;border-left: 1px solid gray;box-sizing: border-box;top: 0;bottom: 0;left: 50%;z-index: -1;}#sk-container-id-2 div.sk-parallel-item {display: flex;flex-direction: column;z-index: 1;position: relative;background-color: white;}#sk-container-id-2 div.sk-parallel-item:first-child::after {align-self: flex-end;width: 50%;}#sk-container-id-2 div.sk-parallel-item:last-child::after {align-self: flex-start;width: 50%;}#sk-container-id-2 div.sk-parallel-item:only-child::after {width: 0;}#sk-container-id-2 div.sk-dashed-wrapped {border: 1px dashed gray;margin: 0 0.4em 0.5em 0.4em;box-sizing: border-box;padding-bottom: 0.4em;background-color: white;}#sk-container-id-2 div.sk-label label {font-family: monospace;font-weight: bold;display: inline-block;line-height: 1.2em;}#sk-container-id-2 div.sk-label-container {text-align: center;}#sk-container-id-2 div.sk-container {/* jupyter's `normalize.less` sets `[hidden] { display: none; }` but bootstrap.min.css set `[hidden] { display: none !important; }` so we also need the `!important` here to be able to override the default hidden behavior on the sphinx rendered scikit-learn.org. See: https://github.com/scikit-learn/scikit-learn/issues/21755 */display: inline-block !important;position: relative;}#sk-container-id-2 div.sk-text-repr-fallback {display: none;}</style><div id=\"sk-container-id-2\" class=\"sk-top-container\"><div class=\"sk-text-repr-fallback\"><pre>Pipeline(steps=[(&#x27;preprocessor&#x27;,\n",
       "                 ColumnTransformer(transformers=[(&#x27;numerical&#x27;,\n",
       "                                                  Pipeline(steps=[(&#x27;imputer&#x27;,\n",
       "                                                                   SimpleImputer()),\n",
       "                                                                  (&#x27;scaler&#x27;,\n",
       "                                                                   StandardScaler())]),\n",
       "                                                  [&#x27;loading&#x27;, &#x27;attribute_mean&#x27;,\n",
       "                                                   &#x27;measurement_mean&#x27;]),\n",
       "                                                 (&#x27;categorical&#x27;,\n",
       "                                                  Pipeline(steps=[(&#x27;imputer&#x27;,\n",
       "                                                                   SimpleImputer(strategy=&#x27;constant&#x27;)),\n",
       "                                                                  (&#x27;ohe&#x27;,\n",
       "                                                                   OneHotEncoder(drop=&#x27;first&#x27;))]),\n",
       "                                                  [&#x27;product_code&#x27;,\n",
       "                                                   &#x27;attribute_0&#x27;,\n",
       "                                                   &#x27;attribute_1&#x27;])])),\n",
       "                (&#x27;balancer&#x27;, SMOTETomek(random_state=42)),\n",
       "                (&#x27;select_best&#x27;, SelectKBest()),\n",
       "                (&#x27;rf&#x27;, RandomForestClassifier())])</pre><b>In a Jupyter environment, please rerun this cell to show the HTML representation or trust the notebook. <br />On GitHub, the HTML representation is unable to render, please try loading this page with nbviewer.org.</b></div><div class=\"sk-container\" hidden><div class=\"sk-item sk-dashed-wrapped\"><div class=\"sk-label-container\"><div class=\"sk-label sk-toggleable\"><input class=\"sk-toggleable__control sk-hidden--visually\" id=\"sk-estimator-id-8\" type=\"checkbox\" ><label for=\"sk-estimator-id-8\" class=\"sk-toggleable__label sk-toggleable__label-arrow\">Pipeline</label><div class=\"sk-toggleable__content\"><pre>Pipeline(steps=[(&#x27;preprocessor&#x27;,\n",
       "                 ColumnTransformer(transformers=[(&#x27;numerical&#x27;,\n",
       "                                                  Pipeline(steps=[(&#x27;imputer&#x27;,\n",
       "                                                                   SimpleImputer()),\n",
       "                                                                  (&#x27;scaler&#x27;,\n",
       "                                                                   StandardScaler())]),\n",
       "                                                  [&#x27;loading&#x27;, &#x27;attribute_mean&#x27;,\n",
       "                                                   &#x27;measurement_mean&#x27;]),\n",
       "                                                 (&#x27;categorical&#x27;,\n",
       "                                                  Pipeline(steps=[(&#x27;imputer&#x27;,\n",
       "                                                                   SimpleImputer(strategy=&#x27;constant&#x27;)),\n",
       "                                                                  (&#x27;ohe&#x27;,\n",
       "                                                                   OneHotEncoder(drop=&#x27;first&#x27;))]),\n",
       "                                                  [&#x27;product_code&#x27;,\n",
       "                                                   &#x27;attribute_0&#x27;,\n",
       "                                                   &#x27;attribute_1&#x27;])])),\n",
       "                (&#x27;balancer&#x27;, SMOTETomek(random_state=42)),\n",
       "                (&#x27;select_best&#x27;, SelectKBest()),\n",
       "                (&#x27;rf&#x27;, RandomForestClassifier())])</pre></div></div></div><div class=\"sk-serial\"><div class=\"sk-item sk-dashed-wrapped\"><div class=\"sk-label-container\"><div class=\"sk-label sk-toggleable\"><input class=\"sk-toggleable__control sk-hidden--visually\" id=\"sk-estimator-id-9\" type=\"checkbox\" ><label for=\"sk-estimator-id-9\" class=\"sk-toggleable__label sk-toggleable__label-arrow\">preprocessor: ColumnTransformer</label><div class=\"sk-toggleable__content\"><pre>ColumnTransformer(transformers=[(&#x27;numerical&#x27;,\n",
       "                                 Pipeline(steps=[(&#x27;imputer&#x27;, SimpleImputer()),\n",
       "                                                 (&#x27;scaler&#x27;, StandardScaler())]),\n",
       "                                 [&#x27;loading&#x27;, &#x27;attribute_mean&#x27;,\n",
       "                                  &#x27;measurement_mean&#x27;]),\n",
       "                                (&#x27;categorical&#x27;,\n",
       "                                 Pipeline(steps=[(&#x27;imputer&#x27;,\n",
       "                                                  SimpleImputer(strategy=&#x27;constant&#x27;)),\n",
       "                                                 (&#x27;ohe&#x27;,\n",
       "                                                  OneHotEncoder(drop=&#x27;first&#x27;))]),\n",
       "                                 [&#x27;product_code&#x27;, &#x27;attribute_0&#x27;,\n",
       "                                  &#x27;attribute_1&#x27;])])</pre></div></div></div><div class=\"sk-parallel\"><div class=\"sk-parallel-item\"><div class=\"sk-item\"><div class=\"sk-label-container\"><div class=\"sk-label sk-toggleable\"><input class=\"sk-toggleable__control sk-hidden--visually\" id=\"sk-estimator-id-10\" type=\"checkbox\" ><label for=\"sk-estimator-id-10\" class=\"sk-toggleable__label sk-toggleable__label-arrow\">numerical</label><div class=\"sk-toggleable__content\"><pre>[&#x27;loading&#x27;, &#x27;attribute_mean&#x27;, &#x27;measurement_mean&#x27;]</pre></div></div></div><div class=\"sk-serial\"><div class=\"sk-item\"><div class=\"sk-serial\"><div class=\"sk-item\"><div class=\"sk-estimator sk-toggleable\"><input class=\"sk-toggleable__control sk-hidden--visually\" id=\"sk-estimator-id-11\" type=\"checkbox\" ><label for=\"sk-estimator-id-11\" class=\"sk-toggleable__label sk-toggleable__label-arrow\">SimpleImputer</label><div class=\"sk-toggleable__content\"><pre>SimpleImputer()</pre></div></div></div><div class=\"sk-item\"><div class=\"sk-estimator sk-toggleable\"><input class=\"sk-toggleable__control sk-hidden--visually\" id=\"sk-estimator-id-12\" type=\"checkbox\" ><label for=\"sk-estimator-id-12\" class=\"sk-toggleable__label sk-toggleable__label-arrow\">StandardScaler</label><div class=\"sk-toggleable__content\"><pre>StandardScaler()</pre></div></div></div></div></div></div></div></div><div class=\"sk-parallel-item\"><div class=\"sk-item\"><div class=\"sk-label-container\"><div class=\"sk-label sk-toggleable\"><input class=\"sk-toggleable__control sk-hidden--visually\" id=\"sk-estimator-id-13\" type=\"checkbox\" ><label for=\"sk-estimator-id-13\" class=\"sk-toggleable__label sk-toggleable__label-arrow\">categorical</label><div class=\"sk-toggleable__content\"><pre>[&#x27;product_code&#x27;, &#x27;attribute_0&#x27;, &#x27;attribute_1&#x27;]</pre></div></div></div><div class=\"sk-serial\"><div class=\"sk-item\"><div class=\"sk-serial\"><div class=\"sk-item\"><div class=\"sk-estimator sk-toggleable\"><input class=\"sk-toggleable__control sk-hidden--visually\" id=\"sk-estimator-id-14\" type=\"checkbox\" ><label for=\"sk-estimator-id-14\" class=\"sk-toggleable__label sk-toggleable__label-arrow\">SimpleImputer</label><div class=\"sk-toggleable__content\"><pre>SimpleImputer(strategy=&#x27;constant&#x27;)</pre></div></div></div><div class=\"sk-item\"><div class=\"sk-estimator sk-toggleable\"><input class=\"sk-toggleable__control sk-hidden--visually\" id=\"sk-estimator-id-15\" type=\"checkbox\" ><label for=\"sk-estimator-id-15\" class=\"sk-toggleable__label sk-toggleable__label-arrow\">OneHotEncoder</label><div class=\"sk-toggleable__content\"><pre>OneHotEncoder(drop=&#x27;first&#x27;)</pre></div></div></div></div></div></div></div></div></div></div><div class=\"sk-item\"><div class=\"sk-estimator sk-toggleable\"><input class=\"sk-toggleable__control sk-hidden--visually\" id=\"sk-estimator-id-16\" type=\"checkbox\" ><label for=\"sk-estimator-id-16\" class=\"sk-toggleable__label sk-toggleable__label-arrow\">SMOTETomek</label><div class=\"sk-toggleable__content\"><pre>SMOTETomek(random_state=42)</pre></div></div></div><div class=\"sk-item\"><div class=\"sk-estimator sk-toggleable\"><input class=\"sk-toggleable__control sk-hidden--visually\" id=\"sk-estimator-id-17\" type=\"checkbox\" ><label for=\"sk-estimator-id-17\" class=\"sk-toggleable__label sk-toggleable__label-arrow\">SelectKBest</label><div class=\"sk-toggleable__content\"><pre>SelectKBest()</pre></div></div></div><div class=\"sk-item\"><div class=\"sk-estimator sk-toggleable\"><input class=\"sk-toggleable__control sk-hidden--visually\" id=\"sk-estimator-id-18\" type=\"checkbox\" ><label for=\"sk-estimator-id-18\" class=\"sk-toggleable__label sk-toggleable__label-arrow\">RandomForestClassifier</label><div class=\"sk-toggleable__content\"><pre>RandomForestClassifier()</pre></div></div></div></div></div></div></div>"
      ],
      "text/plain": [
       "Pipeline(steps=[('preprocessor',\n",
       "                 ColumnTransformer(transformers=[('numerical',\n",
       "                                                  Pipeline(steps=[('imputer',\n",
       "                                                                   SimpleImputer()),\n",
       "                                                                  ('scaler',\n",
       "                                                                   StandardScaler())]),\n",
       "                                                  ['loading', 'attribute_mean',\n",
       "                                                   'measurement_mean']),\n",
       "                                                 ('categorical',\n",
       "                                                  Pipeline(steps=[('imputer',\n",
       "                                                                   SimpleImputer(strategy='constant')),\n",
       "                                                                  ('ohe',\n",
       "                                                                   OneHotEncoder(drop='first'))]),\n",
       "                                                  ['product_code',\n",
       "                                                   'attribute_0',\n",
       "                                                   'attribute_1'])])),\n",
       "                ('balancer', SMOTETomek(random_state=42)),\n",
       "                ('select_best', SelectKBest()),\n",
       "                ('rf', RandomForestClassifier())])"
      ]
     },
     "execution_count": 17,
     "metadata": {},
     "output_type": "execute_result"
    }
   ],
   "source": [
    "from sklearn.ensemble import RandomForestClassifier\n",
    "from imblearn.combine import SMOTETomek\n",
    "from imblearn import pipeline\n",
    "from sklearn.feature_selection import SelectKBest\n",
    "from sklearn.linear_model import LogisticRegression\n",
    "from sklearn.neighbors import KNeighborsClassifier\n",
    "from sklearn.preprocessing import FunctionTransformer\n",
    "\n",
    "pipe = pipeline.Pipeline(\n",
    "    [\n",
    "        (\"preprocessor\", preprocessor),\n",
    "        (\"balancer\", SMOTETomek(random_state=42)),\n",
    "        (\"select_best\", SelectKBest()),\n",
    "        (\"rf\", RandomForestClassifier()),\n",
    "        # (\"knn\", KNeighborsClassifier()),\n",
    "        # (\"lr\", LogisticRegression()),\n",
    "    ]\n",
    ")\n",
    "pipe\n",
    "\n"
   ]
  },
  {
   "cell_type": "code",
   "execution_count": 18,
   "id": "bee8ff5b",
   "metadata": {},
   "outputs": [
    {
     "data": {
      "text/html": [
       "<style>#sk-container-id-3 {color: black;background-color: white;}#sk-container-id-3 pre{padding: 0;}#sk-container-id-3 div.sk-toggleable {background-color: white;}#sk-container-id-3 label.sk-toggleable__label {cursor: pointer;display: block;width: 100%;margin-bottom: 0;padding: 0.3em;box-sizing: border-box;text-align: center;}#sk-container-id-3 label.sk-toggleable__label-arrow:before {content: \"▸\";float: left;margin-right: 0.25em;color: #696969;}#sk-container-id-3 label.sk-toggleable__label-arrow:hover:before {color: black;}#sk-container-id-3 div.sk-estimator:hover label.sk-toggleable__label-arrow:before {color: black;}#sk-container-id-3 div.sk-toggleable__content {max-height: 0;max-width: 0;overflow: hidden;text-align: left;background-color: #f0f8ff;}#sk-container-id-3 div.sk-toggleable__content pre {margin: 0.2em;color: black;border-radius: 0.25em;background-color: #f0f8ff;}#sk-container-id-3 input.sk-toggleable__control:checked~div.sk-toggleable__content {max-height: 200px;max-width: 100%;overflow: auto;}#sk-container-id-3 input.sk-toggleable__control:checked~label.sk-toggleable__label-arrow:before {content: \"▾\";}#sk-container-id-3 div.sk-estimator input.sk-toggleable__control:checked~label.sk-toggleable__label {background-color: #d4ebff;}#sk-container-id-3 div.sk-label input.sk-toggleable__control:checked~label.sk-toggleable__label {background-color: #d4ebff;}#sk-container-id-3 input.sk-hidden--visually {border: 0;clip: rect(1px 1px 1px 1px);clip: rect(1px, 1px, 1px, 1px);height: 1px;margin: -1px;overflow: hidden;padding: 0;position: absolute;width: 1px;}#sk-container-id-3 div.sk-estimator {font-family: monospace;background-color: #f0f8ff;border: 1px dotted black;border-radius: 0.25em;box-sizing: border-box;margin-bottom: 0.5em;}#sk-container-id-3 div.sk-estimator:hover {background-color: #d4ebff;}#sk-container-id-3 div.sk-parallel-item::after {content: \"\";width: 100%;border-bottom: 1px solid gray;flex-grow: 1;}#sk-container-id-3 div.sk-label:hover label.sk-toggleable__label {background-color: #d4ebff;}#sk-container-id-3 div.sk-serial::before {content: \"\";position: absolute;border-left: 1px solid gray;box-sizing: border-box;top: 0;bottom: 0;left: 50%;z-index: 0;}#sk-container-id-3 div.sk-serial {display: flex;flex-direction: column;align-items: center;background-color: white;padding-right: 0.2em;padding-left: 0.2em;position: relative;}#sk-container-id-3 div.sk-item {position: relative;z-index: 1;}#sk-container-id-3 div.sk-parallel {display: flex;align-items: stretch;justify-content: center;background-color: white;position: relative;}#sk-container-id-3 div.sk-item::before, #sk-container-id-3 div.sk-parallel-item::before {content: \"\";position: absolute;border-left: 1px solid gray;box-sizing: border-box;top: 0;bottom: 0;left: 50%;z-index: -1;}#sk-container-id-3 div.sk-parallel-item {display: flex;flex-direction: column;z-index: 1;position: relative;background-color: white;}#sk-container-id-3 div.sk-parallel-item:first-child::after {align-self: flex-end;width: 50%;}#sk-container-id-3 div.sk-parallel-item:last-child::after {align-self: flex-start;width: 50%;}#sk-container-id-3 div.sk-parallel-item:only-child::after {width: 0;}#sk-container-id-3 div.sk-dashed-wrapped {border: 1px dashed gray;margin: 0 0.4em 0.5em 0.4em;box-sizing: border-box;padding-bottom: 0.4em;background-color: white;}#sk-container-id-3 div.sk-label label {font-family: monospace;font-weight: bold;display: inline-block;line-height: 1.2em;}#sk-container-id-3 div.sk-label-container {text-align: center;}#sk-container-id-3 div.sk-container {/* jupyter's `normalize.less` sets `[hidden] { display: none; }` but bootstrap.min.css set `[hidden] { display: none !important; }` so we also need the `!important` here to be able to override the default hidden behavior on the sphinx rendered scikit-learn.org. See: https://github.com/scikit-learn/scikit-learn/issues/21755 */display: inline-block !important;position: relative;}#sk-container-id-3 div.sk-text-repr-fallback {display: none;}</style><div id=\"sk-container-id-3\" class=\"sk-top-container\"><div class=\"sk-text-repr-fallback\"><pre>BayesSearchCV(cv=StratifiedKFold(n_splits=10, random_state=42, shuffle=True),\n",
       "              estimator=Pipeline(steps=[(&#x27;preprocessor&#x27;,\n",
       "                                         ColumnTransformer(transformers=[(&#x27;numerical&#x27;,\n",
       "                                                                          Pipeline(steps=[(&#x27;imputer&#x27;,\n",
       "                                                                                           SimpleImputer()),\n",
       "                                                                                          (&#x27;scaler&#x27;,\n",
       "                                                                                           StandardScaler())]),\n",
       "                                                                          [&#x27;loading&#x27;,\n",
       "                                                                           &#x27;attribute_mean&#x27;,\n",
       "                                                                           &#x27;measurement_mean&#x27;]),\n",
       "                                                                         (&#x27;categorical&#x27;,\n",
       "                                                                          Pipeline(steps=[(&#x27;imputer&#x27;,\n",
       "                                                                                           SimpleImputer(strategy=...\n",
       "                                                                           &#x27;attribute_1&#x27;])])),\n",
       "                                        (&#x27;balancer&#x27;,\n",
       "                                         SMOTETomek(random_state=42)),\n",
       "                                        (&#x27;select_best&#x27;, SelectKBest()),\n",
       "                                        (&#x27;rf&#x27;, RandomForestClassifier())]),\n",
       "              n_iter=10, n_jobs=-1, random_state=42,\n",
       "              scoring=make_scorer(f1_score),\n",
       "              search_spaces={&#x27;rf__criterion&#x27;: Categorical(categories=(&#x27;gini&#x27;, &#x27;entropy&#x27;, &#x27;log_loss&#x27;), prior=None),\n",
       "                             &#x27;rf__max_depth&#x27;: (5, 13, &#x27;uniform&#x27;),\n",
       "                             &#x27;rf__n_estimators&#x27;: (50, 500, &#x27;uniform&#x27;)})</pre><b>In a Jupyter environment, please rerun this cell to show the HTML representation or trust the notebook. <br />On GitHub, the HTML representation is unable to render, please try loading this page with nbviewer.org.</b></div><div class=\"sk-container\" hidden><div class=\"sk-item sk-dashed-wrapped\"><div class=\"sk-label-container\"><div class=\"sk-label sk-toggleable\"><input class=\"sk-toggleable__control sk-hidden--visually\" id=\"sk-estimator-id-19\" type=\"checkbox\" ><label for=\"sk-estimator-id-19\" class=\"sk-toggleable__label sk-toggleable__label-arrow\">BayesSearchCV</label><div class=\"sk-toggleable__content\"><pre>BayesSearchCV(cv=StratifiedKFold(n_splits=10, random_state=42, shuffle=True),\n",
       "              estimator=Pipeline(steps=[(&#x27;preprocessor&#x27;,\n",
       "                                         ColumnTransformer(transformers=[(&#x27;numerical&#x27;,\n",
       "                                                                          Pipeline(steps=[(&#x27;imputer&#x27;,\n",
       "                                                                                           SimpleImputer()),\n",
       "                                                                                          (&#x27;scaler&#x27;,\n",
       "                                                                                           StandardScaler())]),\n",
       "                                                                          [&#x27;loading&#x27;,\n",
       "                                                                           &#x27;attribute_mean&#x27;,\n",
       "                                                                           &#x27;measurement_mean&#x27;]),\n",
       "                                                                         (&#x27;categorical&#x27;,\n",
       "                                                                          Pipeline(steps=[(&#x27;imputer&#x27;,\n",
       "                                                                                           SimpleImputer(strategy=...\n",
       "                                                                           &#x27;attribute_1&#x27;])])),\n",
       "                                        (&#x27;balancer&#x27;,\n",
       "                                         SMOTETomek(random_state=42)),\n",
       "                                        (&#x27;select_best&#x27;, SelectKBest()),\n",
       "                                        (&#x27;rf&#x27;, RandomForestClassifier())]),\n",
       "              n_iter=10, n_jobs=-1, random_state=42,\n",
       "              scoring=make_scorer(f1_score),\n",
       "              search_spaces={&#x27;rf__criterion&#x27;: Categorical(categories=(&#x27;gini&#x27;, &#x27;entropy&#x27;, &#x27;log_loss&#x27;), prior=None),\n",
       "                             &#x27;rf__max_depth&#x27;: (5, 13, &#x27;uniform&#x27;),\n",
       "                             &#x27;rf__n_estimators&#x27;: (50, 500, &#x27;uniform&#x27;)})</pre></div></div></div><div class=\"sk-parallel\"><div class=\"sk-parallel-item\"><div class=\"sk-item\"><div class=\"sk-label-container\"><div class=\"sk-label sk-toggleable\"><input class=\"sk-toggleable__control sk-hidden--visually\" id=\"sk-estimator-id-20\" type=\"checkbox\" ><label for=\"sk-estimator-id-20\" class=\"sk-toggleable__label sk-toggleable__label-arrow\">estimator: Pipeline</label><div class=\"sk-toggleable__content\"><pre>Pipeline(steps=[(&#x27;preprocessor&#x27;,\n",
       "                 ColumnTransformer(transformers=[(&#x27;numerical&#x27;,\n",
       "                                                  Pipeline(steps=[(&#x27;imputer&#x27;,\n",
       "                                                                   SimpleImputer()),\n",
       "                                                                  (&#x27;scaler&#x27;,\n",
       "                                                                   StandardScaler())]),\n",
       "                                                  [&#x27;loading&#x27;, &#x27;attribute_mean&#x27;,\n",
       "                                                   &#x27;measurement_mean&#x27;]),\n",
       "                                                 (&#x27;categorical&#x27;,\n",
       "                                                  Pipeline(steps=[(&#x27;imputer&#x27;,\n",
       "                                                                   SimpleImputer(strategy=&#x27;constant&#x27;)),\n",
       "                                                                  (&#x27;ohe&#x27;,\n",
       "                                                                   OneHotEncoder(drop=&#x27;first&#x27;))]),\n",
       "                                                  [&#x27;product_code&#x27;,\n",
       "                                                   &#x27;attribute_0&#x27;,\n",
       "                                                   &#x27;attribute_1&#x27;])])),\n",
       "                (&#x27;balancer&#x27;, SMOTETomek(random_state=42)),\n",
       "                (&#x27;select_best&#x27;, SelectKBest()),\n",
       "                (&#x27;rf&#x27;, RandomForestClassifier())])</pre></div></div></div><div class=\"sk-serial\"><div class=\"sk-item\"><div class=\"sk-serial\"><div class=\"sk-item sk-dashed-wrapped\"><div class=\"sk-label-container\"><div class=\"sk-label sk-toggleable\"><input class=\"sk-toggleable__control sk-hidden--visually\" id=\"sk-estimator-id-21\" type=\"checkbox\" ><label for=\"sk-estimator-id-21\" class=\"sk-toggleable__label sk-toggleable__label-arrow\">preprocessor: ColumnTransformer</label><div class=\"sk-toggleable__content\"><pre>ColumnTransformer(transformers=[(&#x27;numerical&#x27;,\n",
       "                                 Pipeline(steps=[(&#x27;imputer&#x27;, SimpleImputer()),\n",
       "                                                 (&#x27;scaler&#x27;, StandardScaler())]),\n",
       "                                 [&#x27;loading&#x27;, &#x27;attribute_mean&#x27;,\n",
       "                                  &#x27;measurement_mean&#x27;]),\n",
       "                                (&#x27;categorical&#x27;,\n",
       "                                 Pipeline(steps=[(&#x27;imputer&#x27;,\n",
       "                                                  SimpleImputer(strategy=&#x27;constant&#x27;)),\n",
       "                                                 (&#x27;ohe&#x27;,\n",
       "                                                  OneHotEncoder(drop=&#x27;first&#x27;))]),\n",
       "                                 [&#x27;product_code&#x27;, &#x27;attribute_0&#x27;,\n",
       "                                  &#x27;attribute_1&#x27;])])</pre></div></div></div><div class=\"sk-parallel\"><div class=\"sk-parallel-item\"><div class=\"sk-item\"><div class=\"sk-label-container\"><div class=\"sk-label sk-toggleable\"><input class=\"sk-toggleable__control sk-hidden--visually\" id=\"sk-estimator-id-22\" type=\"checkbox\" ><label for=\"sk-estimator-id-22\" class=\"sk-toggleable__label sk-toggleable__label-arrow\">numerical</label><div class=\"sk-toggleable__content\"><pre>[&#x27;loading&#x27;, &#x27;attribute_mean&#x27;, &#x27;measurement_mean&#x27;]</pre></div></div></div><div class=\"sk-serial\"><div class=\"sk-item\"><div class=\"sk-serial\"><div class=\"sk-item\"><div class=\"sk-estimator sk-toggleable\"><input class=\"sk-toggleable__control sk-hidden--visually\" id=\"sk-estimator-id-23\" type=\"checkbox\" ><label for=\"sk-estimator-id-23\" class=\"sk-toggleable__label sk-toggleable__label-arrow\">SimpleImputer</label><div class=\"sk-toggleable__content\"><pre>SimpleImputer()</pre></div></div></div><div class=\"sk-item\"><div class=\"sk-estimator sk-toggleable\"><input class=\"sk-toggleable__control sk-hidden--visually\" id=\"sk-estimator-id-24\" type=\"checkbox\" ><label for=\"sk-estimator-id-24\" class=\"sk-toggleable__label sk-toggleable__label-arrow\">StandardScaler</label><div class=\"sk-toggleable__content\"><pre>StandardScaler()</pre></div></div></div></div></div></div></div></div><div class=\"sk-parallel-item\"><div class=\"sk-item\"><div class=\"sk-label-container\"><div class=\"sk-label sk-toggleable\"><input class=\"sk-toggleable__control sk-hidden--visually\" id=\"sk-estimator-id-25\" type=\"checkbox\" ><label for=\"sk-estimator-id-25\" class=\"sk-toggleable__label sk-toggleable__label-arrow\">categorical</label><div class=\"sk-toggleable__content\"><pre>[&#x27;product_code&#x27;, &#x27;attribute_0&#x27;, &#x27;attribute_1&#x27;]</pre></div></div></div><div class=\"sk-serial\"><div class=\"sk-item\"><div class=\"sk-serial\"><div class=\"sk-item\"><div class=\"sk-estimator sk-toggleable\"><input class=\"sk-toggleable__control sk-hidden--visually\" id=\"sk-estimator-id-26\" type=\"checkbox\" ><label for=\"sk-estimator-id-26\" class=\"sk-toggleable__label sk-toggleable__label-arrow\">SimpleImputer</label><div class=\"sk-toggleable__content\"><pre>SimpleImputer(strategy=&#x27;constant&#x27;)</pre></div></div></div><div class=\"sk-item\"><div class=\"sk-estimator sk-toggleable\"><input class=\"sk-toggleable__control sk-hidden--visually\" id=\"sk-estimator-id-27\" type=\"checkbox\" ><label for=\"sk-estimator-id-27\" class=\"sk-toggleable__label sk-toggleable__label-arrow\">OneHotEncoder</label><div class=\"sk-toggleable__content\"><pre>OneHotEncoder(drop=&#x27;first&#x27;)</pre></div></div></div></div></div></div></div></div></div></div><div class=\"sk-item\"><div class=\"sk-estimator sk-toggleable\"><input class=\"sk-toggleable__control sk-hidden--visually\" id=\"sk-estimator-id-28\" type=\"checkbox\" ><label for=\"sk-estimator-id-28\" class=\"sk-toggleable__label sk-toggleable__label-arrow\">SMOTETomek</label><div class=\"sk-toggleable__content\"><pre>SMOTETomek(random_state=42)</pre></div></div></div><div class=\"sk-item\"><div class=\"sk-estimator sk-toggleable\"><input class=\"sk-toggleable__control sk-hidden--visually\" id=\"sk-estimator-id-29\" type=\"checkbox\" ><label for=\"sk-estimator-id-29\" class=\"sk-toggleable__label sk-toggleable__label-arrow\">SelectKBest</label><div class=\"sk-toggleable__content\"><pre>SelectKBest()</pre></div></div></div><div class=\"sk-item\"><div class=\"sk-estimator sk-toggleable\"><input class=\"sk-toggleable__control sk-hidden--visually\" id=\"sk-estimator-id-30\" type=\"checkbox\" ><label for=\"sk-estimator-id-30\" class=\"sk-toggleable__label sk-toggleable__label-arrow\">RandomForestClassifier</label><div class=\"sk-toggleable__content\"><pre>RandomForestClassifier()</pre></div></div></div></div></div></div></div></div></div></div></div></div>"
      ],
      "text/plain": [
       "BayesSearchCV(cv=StratifiedKFold(n_splits=10, random_state=42, shuffle=True),\n",
       "              estimator=Pipeline(steps=[('preprocessor',\n",
       "                                         ColumnTransformer(transformers=[('numerical',\n",
       "                                                                          Pipeline(steps=[('imputer',\n",
       "                                                                                           SimpleImputer()),\n",
       "                                                                                          ('scaler',\n",
       "                                                                                           StandardScaler())]),\n",
       "                                                                          ['loading',\n",
       "                                                                           'attribute_mean',\n",
       "                                                                           'measurement_mean']),\n",
       "                                                                         ('categorical',\n",
       "                                                                          Pipeline(steps=[('imputer',\n",
       "                                                                                           SimpleImputer(strategy=...\n",
       "                                                                           'attribute_1'])])),\n",
       "                                        ('balancer',\n",
       "                                         SMOTETomek(random_state=42)),\n",
       "                                        ('select_best', SelectKBest()),\n",
       "                                        ('rf', RandomForestClassifier())]),\n",
       "              n_iter=10, n_jobs=-1, random_state=42,\n",
       "              scoring=make_scorer(f1_score),\n",
       "              search_spaces={'rf__criterion': Categorical(categories=('gini', 'entropy', 'log_loss'), prior=None),\n",
       "                             'rf__max_depth': (5, 13, 'uniform'),\n",
       "                             'rf__n_estimators': (50, 500, 'uniform')})"
      ]
     },
     "execution_count": 18,
     "metadata": {},
     "output_type": "execute_result"
    }
   ],
   "source": [
    "from skopt import BayesSearchCV\n",
    "from skopt.space import Categorical\n",
    "from sklearn.metrics import make_scorer, roc_auc_score, f1_score\n",
    "from sklearn.model_selection import StratifiedKFold\n",
    "\n",
    "splitter = StratifiedKFold(n_splits=10, shuffle=True, random_state=42)\n",
    "score = make_scorer(f1_score)\n",
    "\n",
    "params_rf = {\n",
    "    \"rf__n_estimators\": (50, 500, \"uniform\"),\n",
    "    \"rf__criterion\": Categorical([\"gini\", \"entropy\", \"log_loss\"]),\n",
    "    \"rf__max_depth\": (5, 13, \"uniform\"),\n",
    "}\n",
    "\n",
    "params_knn = {\n",
    "    \"knn__n_neighbors\": (3, 10, \"uniform\"),\n",
    "    \"knn__weights\": Categorical([\"uniform\", \"distance\"]),\n",
    "    \"knn__algorithm\": Categorical([\"auto\", \"ball_tree\", \"kd_tree\", \"brute\"]),\n",
    "}\n",
    "\n",
    "params_lr = {\n",
    "    \"lr__penalty\": Categorical([\"l1\", \"l2\", \"elasticnet\", \"none\"]),\n",
    "    \"lr__tol\": (1e-4, 1e+4, \"log-uniform\"),\n",
    "    \"lr__max_iter\": (100, 10_000, \"uniform\"),\n",
    "    \"lr__solver\": Categorical([\"saga\"]),\n",
    "}\n",
    "\n",
    "bayes = BayesSearchCV(\n",
    "    estimator=pipe,\n",
    "    search_spaces=params_rf,\n",
    "    # search_spaces=params_knn,\n",
    "    # search_spaces=params_lr,\n",
    "    # n_iter=50,\n",
    "    n_iter=10,\n",
    "    scoring=score,\n",
    "    cv=splitter,\n",
    "    random_state=42,\n",
    "    n_jobs=-1,\n",
    ")\n",
    "bayes\n"
   ]
  },
  {
   "cell_type": "code",
   "execution_count": 19,
   "id": "335d95fd",
   "metadata": {},
   "outputs": [
    {
     "data": {
      "text/html": [
       "<style>#sk-container-id-4 {color: black;background-color: white;}#sk-container-id-4 pre{padding: 0;}#sk-container-id-4 div.sk-toggleable {background-color: white;}#sk-container-id-4 label.sk-toggleable__label {cursor: pointer;display: block;width: 100%;margin-bottom: 0;padding: 0.3em;box-sizing: border-box;text-align: center;}#sk-container-id-4 label.sk-toggleable__label-arrow:before {content: \"▸\";float: left;margin-right: 0.25em;color: #696969;}#sk-container-id-4 label.sk-toggleable__label-arrow:hover:before {color: black;}#sk-container-id-4 div.sk-estimator:hover label.sk-toggleable__label-arrow:before {color: black;}#sk-container-id-4 div.sk-toggleable__content {max-height: 0;max-width: 0;overflow: hidden;text-align: left;background-color: #f0f8ff;}#sk-container-id-4 div.sk-toggleable__content pre {margin: 0.2em;color: black;border-radius: 0.25em;background-color: #f0f8ff;}#sk-container-id-4 input.sk-toggleable__control:checked~div.sk-toggleable__content {max-height: 200px;max-width: 100%;overflow: auto;}#sk-container-id-4 input.sk-toggleable__control:checked~label.sk-toggleable__label-arrow:before {content: \"▾\";}#sk-container-id-4 div.sk-estimator input.sk-toggleable__control:checked~label.sk-toggleable__label {background-color: #d4ebff;}#sk-container-id-4 div.sk-label input.sk-toggleable__control:checked~label.sk-toggleable__label {background-color: #d4ebff;}#sk-container-id-4 input.sk-hidden--visually {border: 0;clip: rect(1px 1px 1px 1px);clip: rect(1px, 1px, 1px, 1px);height: 1px;margin: -1px;overflow: hidden;padding: 0;position: absolute;width: 1px;}#sk-container-id-4 div.sk-estimator {font-family: monospace;background-color: #f0f8ff;border: 1px dotted black;border-radius: 0.25em;box-sizing: border-box;margin-bottom: 0.5em;}#sk-container-id-4 div.sk-estimator:hover {background-color: #d4ebff;}#sk-container-id-4 div.sk-parallel-item::after {content: \"\";width: 100%;border-bottom: 1px solid gray;flex-grow: 1;}#sk-container-id-4 div.sk-label:hover label.sk-toggleable__label {background-color: #d4ebff;}#sk-container-id-4 div.sk-serial::before {content: \"\";position: absolute;border-left: 1px solid gray;box-sizing: border-box;top: 0;bottom: 0;left: 50%;z-index: 0;}#sk-container-id-4 div.sk-serial {display: flex;flex-direction: column;align-items: center;background-color: white;padding-right: 0.2em;padding-left: 0.2em;position: relative;}#sk-container-id-4 div.sk-item {position: relative;z-index: 1;}#sk-container-id-4 div.sk-parallel {display: flex;align-items: stretch;justify-content: center;background-color: white;position: relative;}#sk-container-id-4 div.sk-item::before, #sk-container-id-4 div.sk-parallel-item::before {content: \"\";position: absolute;border-left: 1px solid gray;box-sizing: border-box;top: 0;bottom: 0;left: 50%;z-index: -1;}#sk-container-id-4 div.sk-parallel-item {display: flex;flex-direction: column;z-index: 1;position: relative;background-color: white;}#sk-container-id-4 div.sk-parallel-item:first-child::after {align-self: flex-end;width: 50%;}#sk-container-id-4 div.sk-parallel-item:last-child::after {align-self: flex-start;width: 50%;}#sk-container-id-4 div.sk-parallel-item:only-child::after {width: 0;}#sk-container-id-4 div.sk-dashed-wrapped {border: 1px dashed gray;margin: 0 0.4em 0.5em 0.4em;box-sizing: border-box;padding-bottom: 0.4em;background-color: white;}#sk-container-id-4 div.sk-label label {font-family: monospace;font-weight: bold;display: inline-block;line-height: 1.2em;}#sk-container-id-4 div.sk-label-container {text-align: center;}#sk-container-id-4 div.sk-container {/* jupyter's `normalize.less` sets `[hidden] { display: none; }` but bootstrap.min.css set `[hidden] { display: none !important; }` so we also need the `!important` here to be able to override the default hidden behavior on the sphinx rendered scikit-learn.org. See: https://github.com/scikit-learn/scikit-learn/issues/21755 */display: inline-block !important;position: relative;}#sk-container-id-4 div.sk-text-repr-fallback {display: none;}</style><div id=\"sk-container-id-4\" class=\"sk-top-container\"><div class=\"sk-text-repr-fallback\"><pre>BayesSearchCV(cv=StratifiedKFold(n_splits=10, random_state=42, shuffle=True),\n",
       "              estimator=Pipeline(steps=[(&#x27;preprocessor&#x27;,\n",
       "                                         ColumnTransformer(transformers=[(&#x27;numerical&#x27;,\n",
       "                                                                          Pipeline(steps=[(&#x27;imputer&#x27;,\n",
       "                                                                                           SimpleImputer()),\n",
       "                                                                                          (&#x27;scaler&#x27;,\n",
       "                                                                                           StandardScaler())]),\n",
       "                                                                          [&#x27;loading&#x27;,\n",
       "                                                                           &#x27;attribute_mean&#x27;,\n",
       "                                                                           &#x27;measurement_mean&#x27;]),\n",
       "                                                                         (&#x27;categorical&#x27;,\n",
       "                                                                          Pipeline(steps=[(&#x27;imputer&#x27;,\n",
       "                                                                                           SimpleImputer(strategy=...\n",
       "                                                                           &#x27;attribute_1&#x27;])])),\n",
       "                                        (&#x27;balancer&#x27;,\n",
       "                                         SMOTETomek(random_state=42)),\n",
       "                                        (&#x27;select_best&#x27;, SelectKBest()),\n",
       "                                        (&#x27;rf&#x27;, RandomForestClassifier())]),\n",
       "              n_iter=10, n_jobs=-1, random_state=42,\n",
       "              scoring=make_scorer(f1_score),\n",
       "              search_spaces={&#x27;rf__criterion&#x27;: Categorical(categories=(&#x27;gini&#x27;, &#x27;entropy&#x27;, &#x27;log_loss&#x27;), prior=None),\n",
       "                             &#x27;rf__max_depth&#x27;: (5, 13, &#x27;uniform&#x27;),\n",
       "                             &#x27;rf__n_estimators&#x27;: (50, 500, &#x27;uniform&#x27;)})</pre><b>In a Jupyter environment, please rerun this cell to show the HTML representation or trust the notebook. <br />On GitHub, the HTML representation is unable to render, please try loading this page with nbviewer.org.</b></div><div class=\"sk-container\" hidden><div class=\"sk-item sk-dashed-wrapped\"><div class=\"sk-label-container\"><div class=\"sk-label sk-toggleable\"><input class=\"sk-toggleable__control sk-hidden--visually\" id=\"sk-estimator-id-31\" type=\"checkbox\" ><label for=\"sk-estimator-id-31\" class=\"sk-toggleable__label sk-toggleable__label-arrow\">BayesSearchCV</label><div class=\"sk-toggleable__content\"><pre>BayesSearchCV(cv=StratifiedKFold(n_splits=10, random_state=42, shuffle=True),\n",
       "              estimator=Pipeline(steps=[(&#x27;preprocessor&#x27;,\n",
       "                                         ColumnTransformer(transformers=[(&#x27;numerical&#x27;,\n",
       "                                                                          Pipeline(steps=[(&#x27;imputer&#x27;,\n",
       "                                                                                           SimpleImputer()),\n",
       "                                                                                          (&#x27;scaler&#x27;,\n",
       "                                                                                           StandardScaler())]),\n",
       "                                                                          [&#x27;loading&#x27;,\n",
       "                                                                           &#x27;attribute_mean&#x27;,\n",
       "                                                                           &#x27;measurement_mean&#x27;]),\n",
       "                                                                         (&#x27;categorical&#x27;,\n",
       "                                                                          Pipeline(steps=[(&#x27;imputer&#x27;,\n",
       "                                                                                           SimpleImputer(strategy=...\n",
       "                                                                           &#x27;attribute_1&#x27;])])),\n",
       "                                        (&#x27;balancer&#x27;,\n",
       "                                         SMOTETomek(random_state=42)),\n",
       "                                        (&#x27;select_best&#x27;, SelectKBest()),\n",
       "                                        (&#x27;rf&#x27;, RandomForestClassifier())]),\n",
       "              n_iter=10, n_jobs=-1, random_state=42,\n",
       "              scoring=make_scorer(f1_score),\n",
       "              search_spaces={&#x27;rf__criterion&#x27;: Categorical(categories=(&#x27;gini&#x27;, &#x27;entropy&#x27;, &#x27;log_loss&#x27;), prior=None),\n",
       "                             &#x27;rf__max_depth&#x27;: (5, 13, &#x27;uniform&#x27;),\n",
       "                             &#x27;rf__n_estimators&#x27;: (50, 500, &#x27;uniform&#x27;)})</pre></div></div></div><div class=\"sk-parallel\"><div class=\"sk-parallel-item\"><div class=\"sk-item\"><div class=\"sk-label-container\"><div class=\"sk-label sk-toggleable\"><input class=\"sk-toggleable__control sk-hidden--visually\" id=\"sk-estimator-id-32\" type=\"checkbox\" ><label for=\"sk-estimator-id-32\" class=\"sk-toggleable__label sk-toggleable__label-arrow\">estimator: Pipeline</label><div class=\"sk-toggleable__content\"><pre>Pipeline(steps=[(&#x27;preprocessor&#x27;,\n",
       "                 ColumnTransformer(transformers=[(&#x27;numerical&#x27;,\n",
       "                                                  Pipeline(steps=[(&#x27;imputer&#x27;,\n",
       "                                                                   SimpleImputer()),\n",
       "                                                                  (&#x27;scaler&#x27;,\n",
       "                                                                   StandardScaler())]),\n",
       "                                                  [&#x27;loading&#x27;, &#x27;attribute_mean&#x27;,\n",
       "                                                   &#x27;measurement_mean&#x27;]),\n",
       "                                                 (&#x27;categorical&#x27;,\n",
       "                                                  Pipeline(steps=[(&#x27;imputer&#x27;,\n",
       "                                                                   SimpleImputer(strategy=&#x27;constant&#x27;)),\n",
       "                                                                  (&#x27;ohe&#x27;,\n",
       "                                                                   OneHotEncoder(drop=&#x27;first&#x27;))]),\n",
       "                                                  [&#x27;product_code&#x27;,\n",
       "                                                   &#x27;attribute_0&#x27;,\n",
       "                                                   &#x27;attribute_1&#x27;])])),\n",
       "                (&#x27;balancer&#x27;, SMOTETomek(random_state=42)),\n",
       "                (&#x27;select_best&#x27;, SelectKBest()),\n",
       "                (&#x27;rf&#x27;, RandomForestClassifier())])</pre></div></div></div><div class=\"sk-serial\"><div class=\"sk-item\"><div class=\"sk-serial\"><div class=\"sk-item sk-dashed-wrapped\"><div class=\"sk-label-container\"><div class=\"sk-label sk-toggleable\"><input class=\"sk-toggleable__control sk-hidden--visually\" id=\"sk-estimator-id-33\" type=\"checkbox\" ><label for=\"sk-estimator-id-33\" class=\"sk-toggleable__label sk-toggleable__label-arrow\">preprocessor: ColumnTransformer</label><div class=\"sk-toggleable__content\"><pre>ColumnTransformer(transformers=[(&#x27;numerical&#x27;,\n",
       "                                 Pipeline(steps=[(&#x27;imputer&#x27;, SimpleImputer()),\n",
       "                                                 (&#x27;scaler&#x27;, StandardScaler())]),\n",
       "                                 [&#x27;loading&#x27;, &#x27;attribute_mean&#x27;,\n",
       "                                  &#x27;measurement_mean&#x27;]),\n",
       "                                (&#x27;categorical&#x27;,\n",
       "                                 Pipeline(steps=[(&#x27;imputer&#x27;,\n",
       "                                                  SimpleImputer(strategy=&#x27;constant&#x27;)),\n",
       "                                                 (&#x27;ohe&#x27;,\n",
       "                                                  OneHotEncoder(drop=&#x27;first&#x27;))]),\n",
       "                                 [&#x27;product_code&#x27;, &#x27;attribute_0&#x27;,\n",
       "                                  &#x27;attribute_1&#x27;])])</pre></div></div></div><div class=\"sk-parallel\"><div class=\"sk-parallel-item\"><div class=\"sk-item\"><div class=\"sk-label-container\"><div class=\"sk-label sk-toggleable\"><input class=\"sk-toggleable__control sk-hidden--visually\" id=\"sk-estimator-id-34\" type=\"checkbox\" ><label for=\"sk-estimator-id-34\" class=\"sk-toggleable__label sk-toggleable__label-arrow\">numerical</label><div class=\"sk-toggleable__content\"><pre>[&#x27;loading&#x27;, &#x27;attribute_mean&#x27;, &#x27;measurement_mean&#x27;]</pre></div></div></div><div class=\"sk-serial\"><div class=\"sk-item\"><div class=\"sk-serial\"><div class=\"sk-item\"><div class=\"sk-estimator sk-toggleable\"><input class=\"sk-toggleable__control sk-hidden--visually\" id=\"sk-estimator-id-35\" type=\"checkbox\" ><label for=\"sk-estimator-id-35\" class=\"sk-toggleable__label sk-toggleable__label-arrow\">SimpleImputer</label><div class=\"sk-toggleable__content\"><pre>SimpleImputer()</pre></div></div></div><div class=\"sk-item\"><div class=\"sk-estimator sk-toggleable\"><input class=\"sk-toggleable__control sk-hidden--visually\" id=\"sk-estimator-id-36\" type=\"checkbox\" ><label for=\"sk-estimator-id-36\" class=\"sk-toggleable__label sk-toggleable__label-arrow\">StandardScaler</label><div class=\"sk-toggleable__content\"><pre>StandardScaler()</pre></div></div></div></div></div></div></div></div><div class=\"sk-parallel-item\"><div class=\"sk-item\"><div class=\"sk-label-container\"><div class=\"sk-label sk-toggleable\"><input class=\"sk-toggleable__control sk-hidden--visually\" id=\"sk-estimator-id-37\" type=\"checkbox\" ><label for=\"sk-estimator-id-37\" class=\"sk-toggleable__label sk-toggleable__label-arrow\">categorical</label><div class=\"sk-toggleable__content\"><pre>[&#x27;product_code&#x27;, &#x27;attribute_0&#x27;, &#x27;attribute_1&#x27;]</pre></div></div></div><div class=\"sk-serial\"><div class=\"sk-item\"><div class=\"sk-serial\"><div class=\"sk-item\"><div class=\"sk-estimator sk-toggleable\"><input class=\"sk-toggleable__control sk-hidden--visually\" id=\"sk-estimator-id-38\" type=\"checkbox\" ><label for=\"sk-estimator-id-38\" class=\"sk-toggleable__label sk-toggleable__label-arrow\">SimpleImputer</label><div class=\"sk-toggleable__content\"><pre>SimpleImputer(strategy=&#x27;constant&#x27;)</pre></div></div></div><div class=\"sk-item\"><div class=\"sk-estimator sk-toggleable\"><input class=\"sk-toggleable__control sk-hidden--visually\" id=\"sk-estimator-id-39\" type=\"checkbox\" ><label for=\"sk-estimator-id-39\" class=\"sk-toggleable__label sk-toggleable__label-arrow\">OneHotEncoder</label><div class=\"sk-toggleable__content\"><pre>OneHotEncoder(drop=&#x27;first&#x27;)</pre></div></div></div></div></div></div></div></div></div></div><div class=\"sk-item\"><div class=\"sk-estimator sk-toggleable\"><input class=\"sk-toggleable__control sk-hidden--visually\" id=\"sk-estimator-id-40\" type=\"checkbox\" ><label for=\"sk-estimator-id-40\" class=\"sk-toggleable__label sk-toggleable__label-arrow\">SMOTETomek</label><div class=\"sk-toggleable__content\"><pre>SMOTETomek(random_state=42)</pre></div></div></div><div class=\"sk-item\"><div class=\"sk-estimator sk-toggleable\"><input class=\"sk-toggleable__control sk-hidden--visually\" id=\"sk-estimator-id-41\" type=\"checkbox\" ><label for=\"sk-estimator-id-41\" class=\"sk-toggleable__label sk-toggleable__label-arrow\">SelectKBest</label><div class=\"sk-toggleable__content\"><pre>SelectKBest()</pre></div></div></div><div class=\"sk-item\"><div class=\"sk-estimator sk-toggleable\"><input class=\"sk-toggleable__control sk-hidden--visually\" id=\"sk-estimator-id-42\" type=\"checkbox\" ><label for=\"sk-estimator-id-42\" class=\"sk-toggleable__label sk-toggleable__label-arrow\">RandomForestClassifier</label><div class=\"sk-toggleable__content\"><pre>RandomForestClassifier()</pre></div></div></div></div></div></div></div></div></div></div></div></div>"
      ],
      "text/plain": [
       "BayesSearchCV(cv=StratifiedKFold(n_splits=10, random_state=42, shuffle=True),\n",
       "              estimator=Pipeline(steps=[('preprocessor',\n",
       "                                         ColumnTransformer(transformers=[('numerical',\n",
       "                                                                          Pipeline(steps=[('imputer',\n",
       "                                                                                           SimpleImputer()),\n",
       "                                                                                          ('scaler',\n",
       "                                                                                           StandardScaler())]),\n",
       "                                                                          ['loading',\n",
       "                                                                           'attribute_mean',\n",
       "                                                                           'measurement_mean']),\n",
       "                                                                         ('categorical',\n",
       "                                                                          Pipeline(steps=[('imputer',\n",
       "                                                                                           SimpleImputer(strategy=...\n",
       "                                                                           'attribute_1'])])),\n",
       "                                        ('balancer',\n",
       "                                         SMOTETomek(random_state=42)),\n",
       "                                        ('select_best', SelectKBest()),\n",
       "                                        ('rf', RandomForestClassifier())]),\n",
       "              n_iter=10, n_jobs=-1, random_state=42,\n",
       "              scoring=make_scorer(f1_score),\n",
       "              search_spaces={'rf__criterion': Categorical(categories=('gini', 'entropy', 'log_loss'), prior=None),\n",
       "                             'rf__max_depth': (5, 13, 'uniform'),\n",
       "                             'rf__n_estimators': (50, 500, 'uniform')})"
      ]
     },
     "execution_count": 19,
     "metadata": {},
     "output_type": "execute_result"
    }
   ],
   "source": [
    "# bayes.fit(X_train, y_train)\n",
    "bayes.fit(X_full, y_full)"
   ]
  },
  {
   "cell_type": "code",
   "execution_count": 20,
   "id": "ab097f13",
   "metadata": {},
   "outputs": [
    {
     "data": {
      "text/plain": [
       "OrderedDict([('rf__criterion', 'log_loss'),\n",
       "             ('rf__max_depth', 6),\n",
       "             ('rf__n_estimators', 319)])"
      ]
     },
     "execution_count": 20,
     "metadata": {},
     "output_type": "execute_result"
    }
   ],
   "source": [
    "bayes.best_params_"
   ]
  },
  {
   "cell_type": "markdown",
   "id": "5d177914",
   "metadata": {},
   "source": [
    "## Treino e Teste"
   ]
  },
  {
   "cell_type": "code",
   "execution_count": null,
   "id": "f742ecb2",
   "metadata": {},
   "outputs": [],
   "source": [
    "metricas_classificacao(bayes, X_train, X_test, y_train, y_test)"
   ]
  },
  {
   "cell_type": "markdown",
   "id": "f01b0344",
   "metadata": {},
   "source": [
    "# Verificando Resultado do Modelo"
   ]
  },
  {
   "cell_type": "code",
   "execution_count": 21,
   "id": "652cc300",
   "metadata": {},
   "outputs": [
    {
     "data": {
      "text/plain": [
       "(5314, 27)"
      ]
     },
     "execution_count": 21,
     "metadata": {},
     "output_type": "execute_result"
    }
   ],
   "source": [
    "df_valid = pd.read_csv(\"test_data.csv\")\n",
    "df_valid.shape\n"
   ]
  },
  {
   "cell_type": "markdown",
   "id": "f9608f20",
   "metadata": {},
   "source": [
    "## Features e Alvo"
   ]
  },
  {
   "cell_type": "code",
   "execution_count": 22,
   "id": "08bec619",
   "metadata": {},
   "outputs": [],
   "source": [
    "df_valid_mean = mean(df_valid.copy())\n",
    "# df_valid_mean = median(df_valid.copy())\n",
    "# O Resultado usando a mediana ficou um pouco pior\n",
    "# roc_auc_train=0.621\n",
    "# roc_auc_test=0.574\n",
    "\n",
    "X_valid = df_valid_mean.drop(columns=\"failure\")\n",
    "y_valid = df_valid_mean.failure"
   ]
  },
  {
   "cell_type": "markdown",
   "id": "018da103",
   "metadata": {},
   "source": [
    "## Remove colunas de atributos"
   ]
  },
  {
   "cell_type": "code",
   "execution_count": null,
   "id": "0429a28c",
   "metadata": {},
   "outputs": [],
   "source": [
    "X_valid = df_valid.drop(columns=columns)\n",
    "y_valid = df_valid.failure\n"
   ]
  },
  {
   "cell_type": "markdown",
   "id": "5c540e77",
   "metadata": {},
   "source": [
    "## Métricas de Classificação"
   ]
  },
  {
   "cell_type": "code",
   "execution_count": 23,
   "id": "9dd4906e",
   "metadata": {},
   "outputs": [
    {
     "name": "stdout",
     "output_type": "stream",
     "text": [
      "\n",
      "Métricas de avaliação de treino:\n"
     ]
    },
    {
     "data": {
      "image/png": "[encoded data removed]",
      "text/plain": [
       "<Figure size 640x480 with 2 Axes>"
      ]
     },
     "metadata": {},
     "output_type": "display_data"
    },
    {
     "name": "stdout",
     "output_type": "stream",
     "text": [
      "              precision    recall  f1-score   support\n",
      "\n",
      "           0       0.84      0.62      0.71     16737\n",
      "           1       0.28      0.55      0.37      4519\n",
      "\n",
      "    accuracy                           0.60     21256\n",
      "   macro avg       0.56      0.58      0.54     21256\n",
      "weighted avg       0.72      0.60      0.64     21256\n",
      "\n"
     ]
    },
    {
     "data": {
      "image/png": "[encoded data removed]",
      "text/plain": [
       "<Figure size 640x480 with 1 Axes>"
      ]
     },
     "metadata": {},
     "output_type": "display_data"
    },
    {
     "name": "stdout",
     "output_type": "stream",
     "text": [
      "\n",
      "Métricas de avaliação de teste:\n"
     ]
    },
    {
     "data": {
      "image/png": "[encoded data removed]",
      "text/plain": [
       "<Figure size 640x480 with 2 Axes>"
      ]
     },
     "metadata": {},
     "output_type": "display_data"
    },
    {
     "name": "stdout",
     "output_type": "stream",
     "text": [
      "              precision    recall  f1-score   support\n",
      "\n",
      "           0       0.82      0.61      0.70      4184\n",
      "           1       0.26      0.51      0.35      1130\n",
      "\n",
      "    accuracy                           0.59      5314\n",
      "   macro avg       0.54      0.56      0.53      5314\n",
      "weighted avg       0.70      0.59      0.63      5314\n",
      "\n"
     ]
    },
    {
     "data": {
      "image/png": "[encoded data removed]",
      "text/plain": [
       "<Figure size 640x480 with 1 Axes>"
      ]
     },
     "metadata": {},
     "output_type": "display_data"
    }
   ],
   "source": [
    "metricas_classificacao(bayes, X_full, X_valid, y_full, y_valid)"
   ]
  }
 ],
 "metadata": {
  "kernelspec": {
   "display_name": "Python 3.10.8 ('.venv': venv)",
   "language": "python",
   "name": "python3"
  },
  "language_info": {
   "codemirror_mode": {
    "name": "ipython",
    "version": 3
   },
   "file_extension": ".py",
   "mimetype": "text/x-python",
   "name": "python",
   "nbconvert_exporter": "python",
   "pygments_lexer": "ipython3",
   "version": "3.10.8"
  },
  "varInspector": {
   "cols": {
    "lenName": 16,
    "lenType": 16,
    "lenVar": 40
   },
   "kernels_config": {
    "python": {
     "delete_cmd_postfix": "",
     "delete_cmd_prefix": "del ",
     "library": "var_list.py",
     "varRefreshCmd": "print(var_dic_list())"
    },
    "r": {
     "delete_cmd_postfix": ") ",
     "delete_cmd_prefix": "rm(",
     "library": "var_list.r",
     "varRefreshCmd": "cat(var_dic_list()) "
    }
   },
   "types_to_exclude": [
    "module",
    "function",
    "builtin_function_or_method",
    "instance",
    "_Feature"
   ],
   "window_display": false
  },
  "vscode": {
   "interpreter": {
    "hash": "88cae7880daad4c286257803c24ab8efd43fdb724ebd174d2672c2f5eb161ba1"
   }
  }
 },
 "nbformat": 4,
 "nbformat_minor": 5
}
